{
 "cells": [
  {
   "cell_type": "raw",
   "metadata": {},
   "source": [
    "---\n",
    "title: \"Lab_6 Baseball\"\n",
    "author: \"Mehrpad Moattari\"\n",
    "date: \"Nov 15, 2023\"\n",
    "font-family: \"serif\"\n",
    "fontcolor: \"steelblue\"\n",
    "backgroundcolor: \"whitesmoke\"\n",
    "self-contained: true\n",
    "format:\n",
    "  html:\n",
    "    theme: \"simplex\"\n",
    "---"
   ]
  },
  {
   "cell_type": "markdown",
   "metadata": {},
   "source": [
    "## Part 1  Different Model Specs"
   ]
  },
  {
   "cell_type": "markdown",
   "metadata": {},
   "source": [
    "### A Regression Witout Regularization"
   ]
  },
  {
   "cell_type": "markdown",
   "metadata": {},
   "source": [
    "1. Create a pipeline that includes all the columns as predictors for Salary, and performs ordinary linear regression."
   ]
  },
  {
   "cell_type": "code",
   "execution_count": 1,
   "metadata": {},
   "outputs": [
    {
     "data": {
      "text/html": [
       "<div>\n",
       "<style scoped>\n",
       "    .dataframe tbody tr th:only-of-type {\n",
       "        vertical-align: middle;\n",
       "    }\n",
       "\n",
       "    .dataframe tbody tr th {\n",
       "        vertical-align: top;\n",
       "    }\n",
       "\n",
       "    .dataframe thead th {\n",
       "        text-align: right;\n",
       "    }\n",
       "</style>\n",
       "<table border=\"1\" class=\"dataframe\">\n",
       "  <thead>\n",
       "    <tr style=\"text-align: right;\">\n",
       "      <th></th>\n",
       "      <th>AtBat</th>\n",
       "      <th>Hits</th>\n",
       "      <th>HmRun</th>\n",
       "      <th>Runs</th>\n",
       "      <th>RBI</th>\n",
       "      <th>Walks</th>\n",
       "      <th>Years</th>\n",
       "      <th>CAtBat</th>\n",
       "      <th>CHits</th>\n",
       "      <th>CHmRun</th>\n",
       "      <th>CRuns</th>\n",
       "      <th>CRBI</th>\n",
       "      <th>CWalks</th>\n",
       "      <th>League</th>\n",
       "      <th>Division</th>\n",
       "      <th>PutOuts</th>\n",
       "      <th>Assists</th>\n",
       "      <th>Errors</th>\n",
       "      <th>Salary</th>\n",
       "      <th>NewLeague</th>\n",
       "    </tr>\n",
       "  </thead>\n",
       "  <tbody>\n",
       "    <tr>\n",
       "      <th>0</th>\n",
       "      <td>293</td>\n",
       "      <td>66</td>\n",
       "      <td>1</td>\n",
       "      <td>30</td>\n",
       "      <td>29</td>\n",
       "      <td>14</td>\n",
       "      <td>1</td>\n",
       "      <td>293</td>\n",
       "      <td>66</td>\n",
       "      <td>1</td>\n",
       "      <td>30</td>\n",
       "      <td>29</td>\n",
       "      <td>14</td>\n",
       "      <td>A</td>\n",
       "      <td>E</td>\n",
       "      <td>446</td>\n",
       "      <td>33</td>\n",
       "      <td>20</td>\n",
       "      <td>NaN</td>\n",
       "      <td>A</td>\n",
       "    </tr>\n",
       "    <tr>\n",
       "      <th>1</th>\n",
       "      <td>315</td>\n",
       "      <td>81</td>\n",
       "      <td>7</td>\n",
       "      <td>24</td>\n",
       "      <td>38</td>\n",
       "      <td>39</td>\n",
       "      <td>14</td>\n",
       "      <td>3449</td>\n",
       "      <td>835</td>\n",
       "      <td>69</td>\n",
       "      <td>321</td>\n",
       "      <td>414</td>\n",
       "      <td>375</td>\n",
       "      <td>N</td>\n",
       "      <td>W</td>\n",
       "      <td>632</td>\n",
       "      <td>43</td>\n",
       "      <td>10</td>\n",
       "      <td>475.0</td>\n",
       "      <td>N</td>\n",
       "    </tr>\n",
       "    <tr>\n",
       "      <th>2</th>\n",
       "      <td>479</td>\n",
       "      <td>130</td>\n",
       "      <td>18</td>\n",
       "      <td>66</td>\n",
       "      <td>72</td>\n",
       "      <td>76</td>\n",
       "      <td>3</td>\n",
       "      <td>1624</td>\n",
       "      <td>457</td>\n",
       "      <td>63</td>\n",
       "      <td>224</td>\n",
       "      <td>266</td>\n",
       "      <td>263</td>\n",
       "      <td>A</td>\n",
       "      <td>W</td>\n",
       "      <td>880</td>\n",
       "      <td>82</td>\n",
       "      <td>14</td>\n",
       "      <td>480.0</td>\n",
       "      <td>A</td>\n",
       "    </tr>\n",
       "    <tr>\n",
       "      <th>3</th>\n",
       "      <td>496</td>\n",
       "      <td>141</td>\n",
       "      <td>20</td>\n",
       "      <td>65</td>\n",
       "      <td>78</td>\n",
       "      <td>37</td>\n",
       "      <td>11</td>\n",
       "      <td>5628</td>\n",
       "      <td>1575</td>\n",
       "      <td>225</td>\n",
       "      <td>828</td>\n",
       "      <td>838</td>\n",
       "      <td>354</td>\n",
       "      <td>N</td>\n",
       "      <td>E</td>\n",
       "      <td>200</td>\n",
       "      <td>11</td>\n",
       "      <td>3</td>\n",
       "      <td>500.0</td>\n",
       "      <td>N</td>\n",
       "    </tr>\n",
       "    <tr>\n",
       "      <th>4</th>\n",
       "      <td>321</td>\n",
       "      <td>87</td>\n",
       "      <td>10</td>\n",
       "      <td>39</td>\n",
       "      <td>42</td>\n",
       "      <td>30</td>\n",
       "      <td>2</td>\n",
       "      <td>396</td>\n",
       "      <td>101</td>\n",
       "      <td>12</td>\n",
       "      <td>48</td>\n",
       "      <td>46</td>\n",
       "      <td>33</td>\n",
       "      <td>N</td>\n",
       "      <td>E</td>\n",
       "      <td>805</td>\n",
       "      <td>40</td>\n",
       "      <td>4</td>\n",
       "      <td>91.5</td>\n",
       "      <td>N</td>\n",
       "    </tr>\n",
       "  </tbody>\n",
       "</table>\n",
       "</div>"
      ],
      "text/plain": [
       "   AtBat  Hits  HmRun  Runs  RBI  Walks  Years  CAtBat  CHits  CHmRun  CRuns  \\\n",
       "0    293    66      1    30   29     14      1     293     66       1     30   \n",
       "1    315    81      7    24   38     39     14    3449    835      69    321   \n",
       "2    479   130     18    66   72     76      3    1624    457      63    224   \n",
       "3    496   141     20    65   78     37     11    5628   1575     225    828   \n",
       "4    321    87     10    39   42     30      2     396    101      12     48   \n",
       "\n",
       "   CRBI  CWalks League Division  PutOuts  Assists  Errors  Salary NewLeague  \n",
       "0    29      14      A        E      446       33      20     NaN         A  \n",
       "1   414     375      N        W      632       43      10   475.0         N  \n",
       "2   266     263      A        W      880       82      14   480.0         A  \n",
       "3   838     354      N        E      200       11       3   500.0         N  \n",
       "4    46      33      N        E      805       40       4    91.5         N  "
      ]
     },
     "execution_count": 1,
     "metadata": {},
     "output_type": "execute_result"
    }
   ],
   "source": [
    "import pandas as pd\n",
    "\n",
    "hitters_data = pd.read_csv(\"C:/Users/mehrp/OneDrive/Documents/GitHub/Lab_6_BaseBall_Players/Hitters.csv\")\n",
    "\n",
    "hitters_data.head()"
   ]
  },
  {
   "cell_type": "markdown",
   "metadata": {},
   "source": [
    "2. Fit this pipeline to the full dataset, and interpret a few of the most important coefficients."
   ]
  },
  {
   "cell_type": "code",
   "execution_count": 70,
   "metadata": {},
   "outputs": [
    {
     "data": {
      "text/plain": [
       "CRuns     480.747135\n",
       "CAtBat   -391.038655\n",
       "Hits      337.830479\n",
       "AtBat    -291.094556\n",
       "CRBI      260.689886\n",
       "dtype: float64"
      ]
     },
     "execution_count": 70,
     "metadata": {},
     "output_type": "execute_result"
    }
   ],
   "source": [
    "from sklearn.model_selection import train_test_split\n",
    "from sklearn.compose import ColumnTransformer\n",
    "from sklearn.preprocessing import StandardScaler, OneHotEncoder , PolynomialFeatures\n",
    "from sklearn.pipeline import Pipeline\n",
    "from sklearn.metrics import r2_score\n",
    "from sklearn.linear_model import LinearRegression\n",
    "from sklearn.model_selection import GridSearchCV\n",
    "from plotnine import *\n",
    "\n",
    "# First things first, let's ditch the rows with no salary info. \n",
    "hitters_data_clean = hitters_data.dropna(subset=['Salary'])\n",
    "\n",
    "# Splitting our data: 'X' for the stuff we know, 'y' for what we're guessing (salary)\n",
    "X = hitters_data_clean.drop('Salary', axis=1)\n",
    "y = hitters_data_clean['Salary']\n",
    "\n",
    "# Gotta figure out which columns are what. Categorical = words; Numeric = numbers.\n",
    "categorical_cols = X.select_dtypes(include=['object', 'category']).columns\n",
    "numeric_cols = X.select_dtypes(include=['int64', 'float64']).columns\n",
    "\n",
    "# set up our data transformer: Scale the numbers, encode the words.\n",
    "preprocessor = ColumnTransformer(\n",
    "    transformers=[\n",
    "        ('num', StandardScaler(), numeric_cols),\n",
    "        ('cat', OneHotEncoder(), categorical_cols)\n",
    "    ],\n",
    "    remainder='passthrough'  # This little guy lets other columns just tag along without any change.\n",
    ")\n",
    "\n",
    "# Let's build our pipeline: clean up data first, then throw it into a linear regression blender.\n",
    "linear_reg_pipeline = Pipeline([\n",
    "    ('preprocessor', preprocessor),\n",
    "    ('regressor', LinearRegression())\n",
    "])\n",
    "\n",
    "# Fitting time\n",
    "linear_reg_pipeline.fit(X, y)\n",
    "\n",
    "# Grabbing the learned coefficients from our model\n",
    "coefficients = linear_reg_pipeline.named_steps['regressor'].coef_\n",
    "\n",
    "# a peek at the top 5 big players (coefficients) in predicting salaries.\n",
    "important_coefficients = pd.Series(coefficients, index=preprocessor.transformers_[0][2].tolist() + \\\n",
    "                                   preprocessor.named_transformers_['cat'].get_feature_names_out().tolist()) \\\n",
    "                                   .sort_values(key=abs, ascending=False).head(5)\n",
    "important_coefficients\n"
   ]
  },
  {
   "cell_type": "markdown",
   "metadata": {},
   "source": [
    "The variables CRuns, CAtBat, Hits, AtBat, and CRBI are identified as significant predictors of salary, with CRuns being the most positively influential and CAtBat showing a surprisingly negative influence."
   ]
  },
  {
   "cell_type": "markdown",
   "metadata": {},
   "source": [
    "3. Use cross-validation to estimate the MSE you would expect if you used this pipeline to predict 1989 salaries."
   ]
  },
  {
   "cell_type": "code",
   "execution_count": 3,
   "metadata": {},
   "outputs": [
    {
     "data": {
      "text/plain": [
       "121136.31031816892"
      ]
     },
     "execution_count": 3,
     "metadata": {},
     "output_type": "execute_result"
    }
   ],
   "source": [
    "from sklearn.model_selection import cross_val_score\n",
    "import numpy as np\n",
    "\n",
    "# 5-fold cross-validation to estimate MSE\n",
    "mse_scores = -cross_val_score(linear_reg_pipeline, X, y, cv=5, scoring='neg_mean_squared_error')\n",
    "\n",
    "# average MSE\n",
    "average_mse = np.mean(mse_scores)\n",
    "average_mse"
   ]
  },
  {
   "cell_type": "markdown",
   "metadata": {},
   "source": [
    "An MSE of around 121,136 suggests that, on average, the model's predictions are off by about $348 (since MSE is in thousands and square-rooted)."
   ]
  },
  {
   "cell_type": "markdown",
   "metadata": {},
   "source": [
    "## B Ridge Regression"
   ]
  },
  {
   "cell_type": "markdown",
   "metadata": {},
   "source": [
    "1. Create a pipeline that includes all the columns as predictors for Salary, and performs ordinary ridge regression."
   ]
  },
  {
   "cell_type": "code",
   "execution_count": 5,
   "metadata": {},
   "outputs": [],
   "source": [
    "from sklearn.linear_model import Ridge\n",
    "\n",
    "categorical_cols = X.select_dtypes(include=['object', 'category']).columns\n",
    "numeric_cols = X.select_dtypes(include=['int64', 'float64']).columns\n",
    "\n",
    "# Set up our data transformer: Scale the numbers, encode the words\n",
    "preprocessor = ColumnTransformer(\n",
    "    transformers=[\n",
    "        ('num', StandardScaler(), numeric_cols),\n",
    "        ('cat', OneHotEncoder(), categorical_cols)\n",
    "    ],\n",
    "    remainder='passthrough'  # Letting other columns tag along without any change\n",
    ")\n",
    "\n",
    "\n",
    "ridge_pipeline = Pipeline([\n",
    "    ('preprocessor', preprocessor),\n",
    "    ('ridge', Ridge())\n",
    "])"
   ]
  },
  {
   "cell_type": "markdown",
   "metadata": {},
   "source": [
    "2. Use cross-validation to tune the \n",
    " hyperparameter."
   ]
  },
  {
   "cell_type": "code",
   "execution_count": 7,
   "metadata": {},
   "outputs": [
    {
     "data": {
      "text/html": [
       "<style>#sk-container-id-1 {color: black;}#sk-container-id-1 pre{padding: 0;}#sk-container-id-1 div.sk-toggleable {background-color: white;}#sk-container-id-1 label.sk-toggleable__label {cursor: pointer;display: block;width: 100%;margin-bottom: 0;padding: 0.3em;box-sizing: border-box;text-align: center;}#sk-container-id-1 label.sk-toggleable__label-arrow:before {content: \"▸\";float: left;margin-right: 0.25em;color: #696969;}#sk-container-id-1 label.sk-toggleable__label-arrow:hover:before {color: black;}#sk-container-id-1 div.sk-estimator:hover label.sk-toggleable__label-arrow:before {color: black;}#sk-container-id-1 div.sk-toggleable__content {max-height: 0;max-width: 0;overflow: hidden;text-align: left;background-color: #f0f8ff;}#sk-container-id-1 div.sk-toggleable__content pre {margin: 0.2em;color: black;border-radius: 0.25em;background-color: #f0f8ff;}#sk-container-id-1 input.sk-toggleable__control:checked~div.sk-toggleable__content {max-height: 200px;max-width: 100%;overflow: auto;}#sk-container-id-1 input.sk-toggleable__control:checked~label.sk-toggleable__label-arrow:before {content: \"▾\";}#sk-container-id-1 div.sk-estimator input.sk-toggleable__control:checked~label.sk-toggleable__label {background-color: #d4ebff;}#sk-container-id-1 div.sk-label input.sk-toggleable__control:checked~label.sk-toggleable__label {background-color: #d4ebff;}#sk-container-id-1 input.sk-hidden--visually {border: 0;clip: rect(1px 1px 1px 1px);clip: rect(1px, 1px, 1px, 1px);height: 1px;margin: -1px;overflow: hidden;padding: 0;position: absolute;width: 1px;}#sk-container-id-1 div.sk-estimator {font-family: monospace;background-color: #f0f8ff;border: 1px dotted black;border-radius: 0.25em;box-sizing: border-box;margin-bottom: 0.5em;}#sk-container-id-1 div.sk-estimator:hover {background-color: #d4ebff;}#sk-container-id-1 div.sk-parallel-item::after {content: \"\";width: 100%;border-bottom: 1px solid gray;flex-grow: 1;}#sk-container-id-1 div.sk-label:hover label.sk-toggleable__label {background-color: #d4ebff;}#sk-container-id-1 div.sk-serial::before {content: \"\";position: absolute;border-left: 1px solid gray;box-sizing: border-box;top: 0;bottom: 0;left: 50%;z-index: 0;}#sk-container-id-1 div.sk-serial {display: flex;flex-direction: column;align-items: center;background-color: white;padding-right: 0.2em;padding-left: 0.2em;position: relative;}#sk-container-id-1 div.sk-item {position: relative;z-index: 1;}#sk-container-id-1 div.sk-parallel {display: flex;align-items: stretch;justify-content: center;background-color: white;position: relative;}#sk-container-id-1 div.sk-item::before, #sk-container-id-1 div.sk-parallel-item::before {content: \"\";position: absolute;border-left: 1px solid gray;box-sizing: border-box;top: 0;bottom: 0;left: 50%;z-index: -1;}#sk-container-id-1 div.sk-parallel-item {display: flex;flex-direction: column;z-index: 1;position: relative;background-color: white;}#sk-container-id-1 div.sk-parallel-item:first-child::after {align-self: flex-end;width: 50%;}#sk-container-id-1 div.sk-parallel-item:last-child::after {align-self: flex-start;width: 50%;}#sk-container-id-1 div.sk-parallel-item:only-child::after {width: 0;}#sk-container-id-1 div.sk-dashed-wrapped {border: 1px dashed gray;margin: 0 0.4em 0.5em 0.4em;box-sizing: border-box;padding-bottom: 0.4em;background-color: white;}#sk-container-id-1 div.sk-label label {font-family: monospace;font-weight: bold;display: inline-block;line-height: 1.2em;}#sk-container-id-1 div.sk-label-container {text-align: center;}#sk-container-id-1 div.sk-container {/* jupyter's `normalize.less` sets `[hidden] { display: none; }` but bootstrap.min.css set `[hidden] { display: none !important; }` so we also need the `!important` here to be able to override the default hidden behavior on the sphinx rendered scikit-learn.org. See: https://github.com/scikit-learn/scikit-learn/issues/21755 */display: inline-block !important;position: relative;}#sk-container-id-1 div.sk-text-repr-fallback {display: none;}</style><div id=\"sk-container-id-1\" class=\"sk-top-container\"><div class=\"sk-text-repr-fallback\"><pre>Pipeline(steps=[(&#x27;preprocessor&#x27;,\n",
       "                 ColumnTransformer(remainder=&#x27;passthrough&#x27;,\n",
       "                                   transformers=[(&#x27;num&#x27;, StandardScaler(),\n",
       "                                                  Index([&#x27;AtBat&#x27;, &#x27;Hits&#x27;, &#x27;HmRun&#x27;, &#x27;Runs&#x27;, &#x27;RBI&#x27;, &#x27;Walks&#x27;, &#x27;Years&#x27;, &#x27;CAtBat&#x27;,\n",
       "       &#x27;CHits&#x27;, &#x27;CHmRun&#x27;, &#x27;CRuns&#x27;, &#x27;CRBI&#x27;, &#x27;CWalks&#x27;, &#x27;PutOuts&#x27;, &#x27;Assists&#x27;,\n",
       "       &#x27;Errors&#x27;],\n",
       "      dtype=&#x27;object&#x27;)),\n",
       "                                                 (&#x27;cat&#x27;, OneHotEncoder(),\n",
       "                                                  Index([&#x27;League&#x27;, &#x27;Division&#x27;, &#x27;NewLeague&#x27;], dtype=&#x27;object&#x27;))])),\n",
       "                (&#x27;ridge&#x27;, Ridge(alpha=100.0))])</pre><b>In a Jupyter environment, please rerun this cell to show the HTML representation or trust the notebook. <br />On GitHub, the HTML representation is unable to render, please try loading this page with nbviewer.org.</b></div><div class=\"sk-container\" hidden><div class=\"sk-item sk-dashed-wrapped\"><div class=\"sk-label-container\"><div class=\"sk-label sk-toggleable\"><input class=\"sk-toggleable__control sk-hidden--visually\" id=\"sk-estimator-id-1\" type=\"checkbox\" ><label for=\"sk-estimator-id-1\" class=\"sk-toggleable__label sk-toggleable__label-arrow\">Pipeline</label><div class=\"sk-toggleable__content\"><pre>Pipeline(steps=[(&#x27;preprocessor&#x27;,\n",
       "                 ColumnTransformer(remainder=&#x27;passthrough&#x27;,\n",
       "                                   transformers=[(&#x27;num&#x27;, StandardScaler(),\n",
       "                                                  Index([&#x27;AtBat&#x27;, &#x27;Hits&#x27;, &#x27;HmRun&#x27;, &#x27;Runs&#x27;, &#x27;RBI&#x27;, &#x27;Walks&#x27;, &#x27;Years&#x27;, &#x27;CAtBat&#x27;,\n",
       "       &#x27;CHits&#x27;, &#x27;CHmRun&#x27;, &#x27;CRuns&#x27;, &#x27;CRBI&#x27;, &#x27;CWalks&#x27;, &#x27;PutOuts&#x27;, &#x27;Assists&#x27;,\n",
       "       &#x27;Errors&#x27;],\n",
       "      dtype=&#x27;object&#x27;)),\n",
       "                                                 (&#x27;cat&#x27;, OneHotEncoder(),\n",
       "                                                  Index([&#x27;League&#x27;, &#x27;Division&#x27;, &#x27;NewLeague&#x27;], dtype=&#x27;object&#x27;))])),\n",
       "                (&#x27;ridge&#x27;, Ridge(alpha=100.0))])</pre></div></div></div><div class=\"sk-serial\"><div class=\"sk-item sk-dashed-wrapped\"><div class=\"sk-label-container\"><div class=\"sk-label sk-toggleable\"><input class=\"sk-toggleable__control sk-hidden--visually\" id=\"sk-estimator-id-2\" type=\"checkbox\" ><label for=\"sk-estimator-id-2\" class=\"sk-toggleable__label sk-toggleable__label-arrow\">preprocessor: ColumnTransformer</label><div class=\"sk-toggleable__content\"><pre>ColumnTransformer(remainder=&#x27;passthrough&#x27;,\n",
       "                  transformers=[(&#x27;num&#x27;, StandardScaler(),\n",
       "                                 Index([&#x27;AtBat&#x27;, &#x27;Hits&#x27;, &#x27;HmRun&#x27;, &#x27;Runs&#x27;, &#x27;RBI&#x27;, &#x27;Walks&#x27;, &#x27;Years&#x27;, &#x27;CAtBat&#x27;,\n",
       "       &#x27;CHits&#x27;, &#x27;CHmRun&#x27;, &#x27;CRuns&#x27;, &#x27;CRBI&#x27;, &#x27;CWalks&#x27;, &#x27;PutOuts&#x27;, &#x27;Assists&#x27;,\n",
       "       &#x27;Errors&#x27;],\n",
       "      dtype=&#x27;object&#x27;)),\n",
       "                                (&#x27;cat&#x27;, OneHotEncoder(),\n",
       "                                 Index([&#x27;League&#x27;, &#x27;Division&#x27;, &#x27;NewLeague&#x27;], dtype=&#x27;object&#x27;))])</pre></div></div></div><div class=\"sk-parallel\"><div class=\"sk-parallel-item\"><div class=\"sk-item\"><div class=\"sk-label-container\"><div class=\"sk-label sk-toggleable\"><input class=\"sk-toggleable__control sk-hidden--visually\" id=\"sk-estimator-id-3\" type=\"checkbox\" ><label for=\"sk-estimator-id-3\" class=\"sk-toggleable__label sk-toggleable__label-arrow\">num</label><div class=\"sk-toggleable__content\"><pre>Index([&#x27;AtBat&#x27;, &#x27;Hits&#x27;, &#x27;HmRun&#x27;, &#x27;Runs&#x27;, &#x27;RBI&#x27;, &#x27;Walks&#x27;, &#x27;Years&#x27;, &#x27;CAtBat&#x27;,\n",
       "       &#x27;CHits&#x27;, &#x27;CHmRun&#x27;, &#x27;CRuns&#x27;, &#x27;CRBI&#x27;, &#x27;CWalks&#x27;, &#x27;PutOuts&#x27;, &#x27;Assists&#x27;,\n",
       "       &#x27;Errors&#x27;],\n",
       "      dtype=&#x27;object&#x27;)</pre></div></div></div><div class=\"sk-serial\"><div class=\"sk-item\"><div class=\"sk-estimator sk-toggleable\"><input class=\"sk-toggleable__control sk-hidden--visually\" id=\"sk-estimator-id-4\" type=\"checkbox\" ><label for=\"sk-estimator-id-4\" class=\"sk-toggleable__label sk-toggleable__label-arrow\">StandardScaler</label><div class=\"sk-toggleable__content\"><pre>StandardScaler()</pre></div></div></div></div></div></div><div class=\"sk-parallel-item\"><div class=\"sk-item\"><div class=\"sk-label-container\"><div class=\"sk-label sk-toggleable\"><input class=\"sk-toggleable__control sk-hidden--visually\" id=\"sk-estimator-id-5\" type=\"checkbox\" ><label for=\"sk-estimator-id-5\" class=\"sk-toggleable__label sk-toggleable__label-arrow\">cat</label><div class=\"sk-toggleable__content\"><pre>Index([&#x27;League&#x27;, &#x27;Division&#x27;, &#x27;NewLeague&#x27;], dtype=&#x27;object&#x27;)</pre></div></div></div><div class=\"sk-serial\"><div class=\"sk-item\"><div class=\"sk-estimator sk-toggleable\"><input class=\"sk-toggleable__control sk-hidden--visually\" id=\"sk-estimator-id-6\" type=\"checkbox\" ><label for=\"sk-estimator-id-6\" class=\"sk-toggleable__label sk-toggleable__label-arrow\">OneHotEncoder</label><div class=\"sk-toggleable__content\"><pre>OneHotEncoder()</pre></div></div></div></div></div></div><div class=\"sk-parallel-item\"><div class=\"sk-item\"><div class=\"sk-label-container\"><div class=\"sk-label sk-toggleable\"><input class=\"sk-toggleable__control sk-hidden--visually\" id=\"sk-estimator-id-7\" type=\"checkbox\" ><label for=\"sk-estimator-id-7\" class=\"sk-toggleable__label sk-toggleable__label-arrow\">remainder</label><div class=\"sk-toggleable__content\"><pre>[]</pre></div></div></div><div class=\"sk-serial\"><div class=\"sk-item\"><div class=\"sk-estimator sk-toggleable\"><input class=\"sk-toggleable__control sk-hidden--visually\" id=\"sk-estimator-id-8\" type=\"checkbox\" ><label for=\"sk-estimator-id-8\" class=\"sk-toggleable__label sk-toggleable__label-arrow\">passthrough</label><div class=\"sk-toggleable__content\"><pre>passthrough</pre></div></div></div></div></div></div></div></div><div class=\"sk-item\"><div class=\"sk-estimator sk-toggleable\"><input class=\"sk-toggleable__control sk-hidden--visually\" id=\"sk-estimator-id-9\" type=\"checkbox\" ><label for=\"sk-estimator-id-9\" class=\"sk-toggleable__label sk-toggleable__label-arrow\">Ridge</label><div class=\"sk-toggleable__content\"><pre>Ridge(alpha=100.0)</pre></div></div></div></div></div></div></div>"
      ],
      "text/plain": [
       "Pipeline(steps=[('preprocessor',\n",
       "                 ColumnTransformer(remainder='passthrough',\n",
       "                                   transformers=[('num', StandardScaler(),\n",
       "                                                  Index(['AtBat', 'Hits', 'HmRun', 'Runs', 'RBI', 'Walks', 'Years', 'CAtBat',\n",
       "       'CHits', 'CHmRun', 'CRuns', 'CRBI', 'CWalks', 'PutOuts', 'Assists',\n",
       "       'Errors'],\n",
       "      dtype='object')),\n",
       "                                                 ('cat', OneHotEncoder(),\n",
       "                                                  Index(['League', 'Division', 'NewLeague'], dtype='object'))])),\n",
       "                ('ridge', Ridge(alpha=100.0))])"
      ]
     },
     "execution_count": 7,
     "metadata": {},
     "output_type": "execute_result"
    }
   ],
   "source": [
    "from sklearn.linear_model import RidgeCV\n",
    "\n",
    "# Possible alpha values for Ridge Regression\n",
    "alphas = [0.01, 0.1, 1, 10, 100]\n",
    "\n",
    "\n",
    "X_transformed = preprocessor.fit_transform(X)\n",
    "\n",
    "\n",
    "ridge_cv = RidgeCV(alphas=alphas, cv=5)\n",
    "\n",
    "# best alpha using cross-validation\n",
    "best_alpha = ridge_cv.fit(X_transformed, y).alpha_\n",
    "ridge_pipeline.set_params(ridge__alpha=best_alpha)"
   ]
  },
  {
   "cell_type": "markdown",
   "metadata": {},
   "source": [
    "3. Fit the pipeline with your chosen \n",
    " to the full dataset, and interpret a few of the most important coefficients."
   ]
  },
  {
   "cell_type": "code",
   "execution_count": 8,
   "metadata": {},
   "outputs": [
    {
     "data": {
      "text/plain": [
       "PutOuts    56.881522\n",
       "Hits       49.612386\n",
       "CRBI       47.145556\n",
       "CRuns      45.507606\n",
       "CHits      44.534276\n",
       "dtype: float64"
      ]
     },
     "execution_count": 8,
     "metadata": {},
     "output_type": "execute_result"
    }
   ],
   "source": [
    "# Fitting the Ridge Regression model\n",
    "ridge_pipeline.fit(X, y)\n",
    "\n",
    "# Extracting and displaying the top 5 most influential coefficients\n",
    "ridge_coefficients = pd.Series(ridge_pipeline.named_steps['ridge'].coef_, \n",
    "                               index=preprocessor.named_transformers_['num'].get_feature_names_out().tolist() + \\\n",
    "                               preprocessor.named_transformers_['cat'].get_feature_names_out().tolist()) \\\n",
    "                               .sort_values(key=abs, ascending=False).head(5)\n",
    "ridge_coefficients"
   ]
  },
  {
   "cell_type": "markdown",
   "metadata": {},
   "source": [
    "The most impactful predictors, according to the Ridge model, are PutOuts, Hits, CRBI, CRuns, and CHits. It's interesting to note the shift in important predictors compared to the linear model."
   ]
  },
  {
   "cell_type": "markdown",
   "metadata": {},
   "source": [
    "4. Report the MSE you would expect if you used this pipeline to predict 1989 salaries."
   ]
  },
  {
   "cell_type": "code",
   "execution_count": 9,
   "metadata": {},
   "outputs": [
    {
     "data": {
      "text/plain": [
       "120716.43558937623"
      ]
     },
     "execution_count": 9,
     "metadata": {},
     "output_type": "execute_result"
    }
   ],
   "source": [
    "# Estimating the MSE using cross-validation\n",
    "ridge_mse_scores = -cross_val_score(ridge_pipeline, X, y, cv=5, scoring='neg_mean_squared_error')\n",
    "ridge_average_mse = np.mean(ridge_mse_scores)\n",
    "ridge_average_mse\n",
    "\n"
   ]
  },
  {
   "cell_type": "markdown",
   "metadata": {},
   "source": [
    "MSE for the Ridge model is approximately 120,716.43. This value is slightly lower than the MSE from the linear regression model, suggesting a slight improvement in prediction accuracy. "
   ]
  },
  {
   "cell_type": "markdown",
   "metadata": {},
   "source": [
    "## C Lasso Regression"
   ]
  },
  {
   "cell_type": "markdown",
   "metadata": {},
   "source": [
    "1. Create a pipeline that includes all the columns as predictors for Salary, and performs ordinary ridge regression"
   ]
  },
  {
   "cell_type": "code",
   "execution_count": 10,
   "metadata": {},
   "outputs": [],
   "source": [
    "from sklearn.linear_model import Lasso\n",
    "\n",
    "# Swapping in Lasso this time in our do-it-all pipeline\n",
    "lasso_pipeline = Pipeline([\n",
    "    ('preprocessor', preprocessor),\n",
    "    ('lasso', Lasso())\n",
    "])"
   ]
  },
  {
   "cell_type": "markdown",
   "metadata": {},
   "source": [
    "2. Use cross-validation to tune the \n",
    " hyperparameter."
   ]
  },
  {
   "cell_type": "code",
   "execution_count": 20,
   "metadata": {},
   "outputs": [
    {
     "data": {
      "text/html": [
       "<style>#sk-container-id-4 {color: black;}#sk-container-id-4 pre{padding: 0;}#sk-container-id-4 div.sk-toggleable {background-color: white;}#sk-container-id-4 label.sk-toggleable__label {cursor: pointer;display: block;width: 100%;margin-bottom: 0;padding: 0.3em;box-sizing: border-box;text-align: center;}#sk-container-id-4 label.sk-toggleable__label-arrow:before {content: \"▸\";float: left;margin-right: 0.25em;color: #696969;}#sk-container-id-4 label.sk-toggleable__label-arrow:hover:before {color: black;}#sk-container-id-4 div.sk-estimator:hover label.sk-toggleable__label-arrow:before {color: black;}#sk-container-id-4 div.sk-toggleable__content {max-height: 0;max-width: 0;overflow: hidden;text-align: left;background-color: #f0f8ff;}#sk-container-id-4 div.sk-toggleable__content pre {margin: 0.2em;color: black;border-radius: 0.25em;background-color: #f0f8ff;}#sk-container-id-4 input.sk-toggleable__control:checked~div.sk-toggleable__content {max-height: 200px;max-width: 100%;overflow: auto;}#sk-container-id-4 input.sk-toggleable__control:checked~label.sk-toggleable__label-arrow:before {content: \"▾\";}#sk-container-id-4 div.sk-estimator input.sk-toggleable__control:checked~label.sk-toggleable__label {background-color: #d4ebff;}#sk-container-id-4 div.sk-label input.sk-toggleable__control:checked~label.sk-toggleable__label {background-color: #d4ebff;}#sk-container-id-4 input.sk-hidden--visually {border: 0;clip: rect(1px 1px 1px 1px);clip: rect(1px, 1px, 1px, 1px);height: 1px;margin: -1px;overflow: hidden;padding: 0;position: absolute;width: 1px;}#sk-container-id-4 div.sk-estimator {font-family: monospace;background-color: #f0f8ff;border: 1px dotted black;border-radius: 0.25em;box-sizing: border-box;margin-bottom: 0.5em;}#sk-container-id-4 div.sk-estimator:hover {background-color: #d4ebff;}#sk-container-id-4 div.sk-parallel-item::after {content: \"\";width: 100%;border-bottom: 1px solid gray;flex-grow: 1;}#sk-container-id-4 div.sk-label:hover label.sk-toggleable__label {background-color: #d4ebff;}#sk-container-id-4 div.sk-serial::before {content: \"\";position: absolute;border-left: 1px solid gray;box-sizing: border-box;top: 0;bottom: 0;left: 50%;z-index: 0;}#sk-container-id-4 div.sk-serial {display: flex;flex-direction: column;align-items: center;background-color: white;padding-right: 0.2em;padding-left: 0.2em;position: relative;}#sk-container-id-4 div.sk-item {position: relative;z-index: 1;}#sk-container-id-4 div.sk-parallel {display: flex;align-items: stretch;justify-content: center;background-color: white;position: relative;}#sk-container-id-4 div.sk-item::before, #sk-container-id-4 div.sk-parallel-item::before {content: \"\";position: absolute;border-left: 1px solid gray;box-sizing: border-box;top: 0;bottom: 0;left: 50%;z-index: -1;}#sk-container-id-4 div.sk-parallel-item {display: flex;flex-direction: column;z-index: 1;position: relative;background-color: white;}#sk-container-id-4 div.sk-parallel-item:first-child::after {align-self: flex-end;width: 50%;}#sk-container-id-4 div.sk-parallel-item:last-child::after {align-self: flex-start;width: 50%;}#sk-container-id-4 div.sk-parallel-item:only-child::after {width: 0;}#sk-container-id-4 div.sk-dashed-wrapped {border: 1px dashed gray;margin: 0 0.4em 0.5em 0.4em;box-sizing: border-box;padding-bottom: 0.4em;background-color: white;}#sk-container-id-4 div.sk-label label {font-family: monospace;font-weight: bold;display: inline-block;line-height: 1.2em;}#sk-container-id-4 div.sk-label-container {text-align: center;}#sk-container-id-4 div.sk-container {/* jupyter's `normalize.less` sets `[hidden] { display: none; }` but bootstrap.min.css set `[hidden] { display: none !important; }` so we also need the `!important` here to be able to override the default hidden behavior on the sphinx rendered scikit-learn.org. See: https://github.com/scikit-learn/scikit-learn/issues/21755 */display: inline-block !important;position: relative;}#sk-container-id-4 div.sk-text-repr-fallback {display: none;}</style><div id=\"sk-container-id-4\" class=\"sk-top-container\"><div class=\"sk-text-repr-fallback\"><pre>Pipeline(steps=[(&#x27;preprocessor&#x27;,\n",
       "                 ColumnTransformer(remainder=&#x27;passthrough&#x27;,\n",
       "                                   transformers=[(&#x27;num&#x27;, StandardScaler(),\n",
       "                                                  Index([&#x27;AtBat&#x27;, &#x27;Hits&#x27;, &#x27;HmRun&#x27;, &#x27;Runs&#x27;, &#x27;RBI&#x27;, &#x27;Walks&#x27;, &#x27;Years&#x27;, &#x27;CAtBat&#x27;,\n",
       "       &#x27;CHits&#x27;, &#x27;CHmRun&#x27;, &#x27;CRuns&#x27;, &#x27;CRBI&#x27;, &#x27;CWalks&#x27;, &#x27;PutOuts&#x27;, &#x27;Assists&#x27;,\n",
       "       &#x27;Errors&#x27;],\n",
       "      dtype=&#x27;object&#x27;)),\n",
       "                                                 (&#x27;cat&#x27;, OneHotEncoder(),\n",
       "                                                  Index([&#x27;League&#x27;, &#x27;Division&#x27;, &#x27;NewLeague&#x27;], dtype=&#x27;object&#x27;))])),\n",
       "                (&#x27;lasso&#x27;, Lasso(alpha=2.1544346900318843))])</pre><b>In a Jupyter environment, please rerun this cell to show the HTML representation or trust the notebook. <br />On GitHub, the HTML representation is unable to render, please try loading this page with nbviewer.org.</b></div><div class=\"sk-container\" hidden><div class=\"sk-item sk-dashed-wrapped\"><div class=\"sk-label-container\"><div class=\"sk-label sk-toggleable\"><input class=\"sk-toggleable__control sk-hidden--visually\" id=\"sk-estimator-id-28\" type=\"checkbox\" ><label for=\"sk-estimator-id-28\" class=\"sk-toggleable__label sk-toggleable__label-arrow\">Pipeline</label><div class=\"sk-toggleable__content\"><pre>Pipeline(steps=[(&#x27;preprocessor&#x27;,\n",
       "                 ColumnTransformer(remainder=&#x27;passthrough&#x27;,\n",
       "                                   transformers=[(&#x27;num&#x27;, StandardScaler(),\n",
       "                                                  Index([&#x27;AtBat&#x27;, &#x27;Hits&#x27;, &#x27;HmRun&#x27;, &#x27;Runs&#x27;, &#x27;RBI&#x27;, &#x27;Walks&#x27;, &#x27;Years&#x27;, &#x27;CAtBat&#x27;,\n",
       "       &#x27;CHits&#x27;, &#x27;CHmRun&#x27;, &#x27;CRuns&#x27;, &#x27;CRBI&#x27;, &#x27;CWalks&#x27;, &#x27;PutOuts&#x27;, &#x27;Assists&#x27;,\n",
       "       &#x27;Errors&#x27;],\n",
       "      dtype=&#x27;object&#x27;)),\n",
       "                                                 (&#x27;cat&#x27;, OneHotEncoder(),\n",
       "                                                  Index([&#x27;League&#x27;, &#x27;Division&#x27;, &#x27;NewLeague&#x27;], dtype=&#x27;object&#x27;))])),\n",
       "                (&#x27;lasso&#x27;, Lasso(alpha=2.1544346900318843))])</pre></div></div></div><div class=\"sk-serial\"><div class=\"sk-item sk-dashed-wrapped\"><div class=\"sk-label-container\"><div class=\"sk-label sk-toggleable\"><input class=\"sk-toggleable__control sk-hidden--visually\" id=\"sk-estimator-id-29\" type=\"checkbox\" ><label for=\"sk-estimator-id-29\" class=\"sk-toggleable__label sk-toggleable__label-arrow\">preprocessor: ColumnTransformer</label><div class=\"sk-toggleable__content\"><pre>ColumnTransformer(remainder=&#x27;passthrough&#x27;,\n",
       "                  transformers=[(&#x27;num&#x27;, StandardScaler(),\n",
       "                                 Index([&#x27;AtBat&#x27;, &#x27;Hits&#x27;, &#x27;HmRun&#x27;, &#x27;Runs&#x27;, &#x27;RBI&#x27;, &#x27;Walks&#x27;, &#x27;Years&#x27;, &#x27;CAtBat&#x27;,\n",
       "       &#x27;CHits&#x27;, &#x27;CHmRun&#x27;, &#x27;CRuns&#x27;, &#x27;CRBI&#x27;, &#x27;CWalks&#x27;, &#x27;PutOuts&#x27;, &#x27;Assists&#x27;,\n",
       "       &#x27;Errors&#x27;],\n",
       "      dtype=&#x27;object&#x27;)),\n",
       "                                (&#x27;cat&#x27;, OneHotEncoder(),\n",
       "                                 Index([&#x27;League&#x27;, &#x27;Division&#x27;, &#x27;NewLeague&#x27;], dtype=&#x27;object&#x27;))])</pre></div></div></div><div class=\"sk-parallel\"><div class=\"sk-parallel-item\"><div class=\"sk-item\"><div class=\"sk-label-container\"><div class=\"sk-label sk-toggleable\"><input class=\"sk-toggleable__control sk-hidden--visually\" id=\"sk-estimator-id-30\" type=\"checkbox\" ><label for=\"sk-estimator-id-30\" class=\"sk-toggleable__label sk-toggleable__label-arrow\">num</label><div class=\"sk-toggleable__content\"><pre>Index([&#x27;AtBat&#x27;, &#x27;Hits&#x27;, &#x27;HmRun&#x27;, &#x27;Runs&#x27;, &#x27;RBI&#x27;, &#x27;Walks&#x27;, &#x27;Years&#x27;, &#x27;CAtBat&#x27;,\n",
       "       &#x27;CHits&#x27;, &#x27;CHmRun&#x27;, &#x27;CRuns&#x27;, &#x27;CRBI&#x27;, &#x27;CWalks&#x27;, &#x27;PutOuts&#x27;, &#x27;Assists&#x27;,\n",
       "       &#x27;Errors&#x27;],\n",
       "      dtype=&#x27;object&#x27;)</pre></div></div></div><div class=\"sk-serial\"><div class=\"sk-item\"><div class=\"sk-estimator sk-toggleable\"><input class=\"sk-toggleable__control sk-hidden--visually\" id=\"sk-estimator-id-31\" type=\"checkbox\" ><label for=\"sk-estimator-id-31\" class=\"sk-toggleable__label sk-toggleable__label-arrow\">StandardScaler</label><div class=\"sk-toggleable__content\"><pre>StandardScaler()</pre></div></div></div></div></div></div><div class=\"sk-parallel-item\"><div class=\"sk-item\"><div class=\"sk-label-container\"><div class=\"sk-label sk-toggleable\"><input class=\"sk-toggleable__control sk-hidden--visually\" id=\"sk-estimator-id-32\" type=\"checkbox\" ><label for=\"sk-estimator-id-32\" class=\"sk-toggleable__label sk-toggleable__label-arrow\">cat</label><div class=\"sk-toggleable__content\"><pre>Index([&#x27;League&#x27;, &#x27;Division&#x27;, &#x27;NewLeague&#x27;], dtype=&#x27;object&#x27;)</pre></div></div></div><div class=\"sk-serial\"><div class=\"sk-item\"><div class=\"sk-estimator sk-toggleable\"><input class=\"sk-toggleable__control sk-hidden--visually\" id=\"sk-estimator-id-33\" type=\"checkbox\" ><label for=\"sk-estimator-id-33\" class=\"sk-toggleable__label sk-toggleable__label-arrow\">OneHotEncoder</label><div class=\"sk-toggleable__content\"><pre>OneHotEncoder()</pre></div></div></div></div></div></div><div class=\"sk-parallel-item\"><div class=\"sk-item\"><div class=\"sk-label-container\"><div class=\"sk-label sk-toggleable\"><input class=\"sk-toggleable__control sk-hidden--visually\" id=\"sk-estimator-id-34\" type=\"checkbox\" ><label for=\"sk-estimator-id-34\" class=\"sk-toggleable__label sk-toggleable__label-arrow\">remainder</label><div class=\"sk-toggleable__content\"><pre>[]</pre></div></div></div><div class=\"sk-serial\"><div class=\"sk-item\"><div class=\"sk-estimator sk-toggleable\"><input class=\"sk-toggleable__control sk-hidden--visually\" id=\"sk-estimator-id-35\" type=\"checkbox\" ><label for=\"sk-estimator-id-35\" class=\"sk-toggleable__label sk-toggleable__label-arrow\">passthrough</label><div class=\"sk-toggleable__content\"><pre>passthrough</pre></div></div></div></div></div></div></div></div><div class=\"sk-item\"><div class=\"sk-estimator sk-toggleable\"><input class=\"sk-toggleable__control sk-hidden--visually\" id=\"sk-estimator-id-36\" type=\"checkbox\" ><label for=\"sk-estimator-id-36\" class=\"sk-toggleable__label sk-toggleable__label-arrow\">Lasso</label><div class=\"sk-toggleable__content\"><pre>Lasso(alpha=2.1544346900318843)</pre></div></div></div></div></div></div></div>"
      ],
      "text/plain": [
       "Pipeline(steps=[('preprocessor',\n",
       "                 ColumnTransformer(remainder='passthrough',\n",
       "                                   transformers=[('num', StandardScaler(),\n",
       "                                                  Index(['AtBat', 'Hits', 'HmRun', 'Runs', 'RBI', 'Walks', 'Years', 'CAtBat',\n",
       "       'CHits', 'CHmRun', 'CRuns', 'CRBI', 'CWalks', 'PutOuts', 'Assists',\n",
       "       'Errors'],\n",
       "      dtype='object')),\n",
       "                                                 ('cat', OneHotEncoder(),\n",
       "                                                  Index(['League', 'Division', 'NewLeague'], dtype='object'))])),\n",
       "                ('lasso', Lasso(alpha=2.1544346900318843))])"
      ]
     },
     "execution_count": 20,
     "metadata": {},
     "output_type": "execute_result"
    }
   ],
   "source": [
    "from sklearn.linear_model import LassoCV\n",
    "\n",
    "# alpha values for Lasso Regression (Wide Range)\n",
    "lasso_alphas = np.logspace(-3, 2, 100)  # Alphas from 0.001 to 100\n",
    "\n",
    "# LassoCV to find the best alpha\n",
    "lasso_cv = LassoCV(alphas=lasso_alphas, cv=5, max_iter=100000)\n",
    "\n",
    "best_lasso_alpha = lasso_cv.fit(X_transformed, y).alpha_\n",
    "lasso_pipeline.set_params(lasso__alpha=best_lasso_alpha)"
   ]
  },
  {
   "cell_type": "markdown",
   "metadata": {},
   "source": [
    "3. Fit the pipeline with your chosen \n",
    " to the full dataset, and interpret a few of the most important coefficients.\n",
    "\n"
   ]
  },
  {
   "cell_type": "code",
   "execution_count": 21,
   "metadata": {},
   "outputs": [
    {
     "data": {
      "text/plain": [
       "Hits      271.835865\n",
       "AtBat    -252.325350\n",
       "CRuns     235.658594\n",
       "CWalks   -155.822789\n",
       "CRBI      122.156358\n",
       "dtype: float64"
      ]
     },
     "execution_count": 21,
     "metadata": {},
     "output_type": "execute_result"
    }
   ],
   "source": [
    "lasso_pipeline.fit(X, y)\n",
    "\n",
    "# Which features is Lasso telling us are the real MVPs?\n",
    "lasso_coefficients = pd.Series(lasso_pipeline.named_steps['lasso'].coef_, \n",
    "                               index=preprocessor.named_transformers_['num'].get_feature_names_out().tolist() + \\\n",
    "                               preprocessor.named_transformers_['cat'].get_feature_names_out().tolist()) \\\n",
    "                               .sort_values(key=abs, ascending=False).head(5)\n",
    "lasso_coefficients"
   ]
  },
  {
   "cell_type": "markdown",
   "metadata": {},
   "source": [
    "In the Lasso model, 'Hits' and 'CRuns' significantly increase a player's salary, while 'AtBat' and 'CWalks' show a surprising negative relationship. 'CRBI' also positively influences salary, indicating its importance."
   ]
  },
  {
   "cell_type": "markdown",
   "metadata": {},
   "source": [
    "#### I was getinng \"ConvergenceWarning\" error so I decided to plot and check for outliers. "
   ]
  },
  {
   "cell_type": "code",
   "execution_count": 22,
   "metadata": {},
   "outputs": [
    {
     "data": {
      "image/png": "[encoded data removed]",
      "text/plain": [
       "<Figure size 800x400 with 1 Axes>"
      ]
     },
     "metadata": {},
     "output_type": "display_data"
    },
    {
     "data": {
      "image/png": "[encoded data removed]",
      "text/plain": [
       "<Figure size 800x400 with 1 Axes>"
      ]
     },
     "metadata": {},
     "output_type": "display_data"
    },
    {
     "data": {
      "image/png": "[encoded data removed]",
      "text/plain": [
       "<Figure size 800x400 with 1 Axes>"
      ]
     },
     "metadata": {},
     "output_type": "display_data"
    },
    {
     "data": {
      "image/png": "[encoded data removed]",
      "text/plain": [
       "<Figure size 800x400 with 1 Axes>"
      ]
     },
     "metadata": {},
     "output_type": "display_data"
    },
    {
     "data": {
      "image/png": "[encoded data removed]",
      "text/plain": [
       "<Figure size 800x400 with 1 Axes>"
      ]
     },
     "metadata": {},
     "output_type": "display_data"
    },
    {
     "data": {
      "image/png": "[encoded data removed]",
      "text/plain": [
       "<Figure size 800x400 with 1 Axes>"
      ]
     },
     "metadata": {},
     "output_type": "display_data"
    },
    {
     "data": {
      "image/png": "[encoded data removed]",
      "text/plain": [
       "<Figure size 800x400 with 1 Axes>"
      ]
     },
     "metadata": {},
     "output_type": "display_data"
    },
    {
     "data": {
      "image/png": "[encoded data removed]",
      "text/plain": [
       "<Figure size 800x400 with 1 Axes>"
      ]
     },
     "metadata": {},
     "output_type": "display_data"
    },
    {
     "data": {
      "image/png": "[encoded data removed]",
      "text/plain": [
       "<Figure size 800x400 with 1 Axes>"
      ]
     },
     "metadata": {},
     "output_type": "display_data"
    },
    {
     "data": {
      "image/png": "[encoded data removed]",
      "text/plain": [
       "<Figure size 800x400 with 1 Axes>"
      ]
     },
     "metadata": {},
     "output_type": "display_data"
    },
    {
     "data": {
      "image/png": "[encoded data removed]",
      "text/plain": [
       "<Figure size 800x400 with 1 Axes>"
      ]
     },
     "metadata": {},
     "output_type": "display_data"
    },
    {
     "data": {
      "image/png": "[encoded data removed]",
      "text/plain": [
       "<Figure size 800x400 with 1 Axes>"
      ]
     },
     "metadata": {},
     "output_type": "display_data"
    },
    {
     "data": {
      "image/png": "[encoded data removed]",
      "text/plain": [
       "<Figure size 800x400 with 1 Axes>"
      ]
     },
     "metadata": {},
     "output_type": "display_data"
    },
    {
     "data": {
      "image/png": "[encoded data removed]",
      "text/plain": [
       "<Figure size 800x400 with 1 Axes>"
      ]
     },
     "metadata": {},
     "output_type": "display_data"
    },
    {
     "data": {
      "image/png": "[encoded data removed]",
      "text/plain": [
       "<Figure size 800x400 with 1 Axes>"
      ]
     },
     "metadata": {},
     "output_type": "display_data"
    },
    {
     "data": {
      "image/png": "[encoded data removed]",
      "text/plain": [
       "<Figure size 800x400 with 1 Axes>"
      ]
     },
     "metadata": {},
     "output_type": "display_data"
    }
   ],
   "source": [
    "X[numeric_cols].describe()\n",
    "\n",
    "import matplotlib.pyplot as plt\n",
    "\n",
    "for col in numeric_cols:\n",
    "    plt.figure(figsize=(8, 4))\n",
    "    plt.hist(X[col], bins=30, edgecolor='k')\n",
    "    plt.title(col)\n",
    "    plt.show()"
   ]
  },
  {
   "cell_type": "markdown",
   "metadata": {},
   "source": [
    "4. Report the MSE you would expect if you used this pipeline to predict 1989 salaries."
   ]
  },
  {
   "cell_type": "code",
   "execution_count": 23,
   "metadata": {},
   "outputs": [
    {
     "name": "stderr",
     "output_type": "stream",
     "text": [
      "c:\\Users\\mehrp\\anaconda3\\Lib\\site-packages\\sklearn\\linear_model\\_coordinate_descent.py:628: ConvergenceWarning: Objective did not converge. You might want to increase the number of iterations, check the scale of the features or consider increasing regularisation. Duality gap: 1.006e+04, tolerance: 4.281e+03\n",
      "  model = cd_fast.enet_coordinate_descent(\n"
     ]
    },
    {
     "data": {
      "text/plain": [
       "119076.97656817776"
      ]
     },
     "execution_count": 23,
     "metadata": {},
     "output_type": "execute_result"
    }
   ],
   "source": [
    "# the moment of truth!\n",
    "lasso_mse_scores = -cross_val_score(lasso_pipeline, X, y, cv=5, scoring='neg_mean_squared_error')\n",
    "lasso_average_mse = np.mean(lasso_mse_scores)\n",
    "lasso_average_mse"
   ]
  },
  {
   "cell_type": "markdown",
   "metadata": {},
   "source": [
    "This MSE is slightly lower than your Ridge model (~120,716) and your initial linear regression model (~121,136). Lasso is performing slightly better."
   ]
  },
  {
   "cell_type": "markdown",
   "metadata": {},
   "source": [
    "## D Elastic Net"
   ]
  },
  {
   "cell_type": "markdown",
   "metadata": {},
   "source": [
    "1. Create a pipeline that includes all the columns as predictors for Salary, and performs ordinary ridge regression\n",
    "\n"
   ]
  },
  {
   "cell_type": "code",
   "execution_count": 24,
   "metadata": {},
   "outputs": [],
   "source": [
    "from sklearn.linear_model import ElasticNet\n",
    "\n",
    "# Setting up the Elastic Net pipeline\n",
    "elastic_net_pipeline = Pipeline([\n",
    "    ('preprocessor', preprocessor),\n",
    "    ('elastic_net', ElasticNet())\n",
    "])\n"
   ]
  },
  {
   "cell_type": "markdown",
   "metadata": {},
   "source": [
    "2. Use cross-validation to tune the \n",
    "lambda and alpha hyperparameters."
   ]
  },
  {
   "cell_type": "code",
   "execution_count": 25,
   "metadata": {},
   "outputs": [
    {
     "data": {
      "text/html": [
       "<style>#sk-container-id-5 {color: black;}#sk-container-id-5 pre{padding: 0;}#sk-container-id-5 div.sk-toggleable {background-color: white;}#sk-container-id-5 label.sk-toggleable__label {cursor: pointer;display: block;width: 100%;margin-bottom: 0;padding: 0.3em;box-sizing: border-box;text-align: center;}#sk-container-id-5 label.sk-toggleable__label-arrow:before {content: \"▸\";float: left;margin-right: 0.25em;color: #696969;}#sk-container-id-5 label.sk-toggleable__label-arrow:hover:before {color: black;}#sk-container-id-5 div.sk-estimator:hover label.sk-toggleable__label-arrow:before {color: black;}#sk-container-id-5 div.sk-toggleable__content {max-height: 0;max-width: 0;overflow: hidden;text-align: left;background-color: #f0f8ff;}#sk-container-id-5 div.sk-toggleable__content pre {margin: 0.2em;color: black;border-radius: 0.25em;background-color: #f0f8ff;}#sk-container-id-5 input.sk-toggleable__control:checked~div.sk-toggleable__content {max-height: 200px;max-width: 100%;overflow: auto;}#sk-container-id-5 input.sk-toggleable__control:checked~label.sk-toggleable__label-arrow:before {content: \"▾\";}#sk-container-id-5 div.sk-estimator input.sk-toggleable__control:checked~label.sk-toggleable__label {background-color: #d4ebff;}#sk-container-id-5 div.sk-label input.sk-toggleable__control:checked~label.sk-toggleable__label {background-color: #d4ebff;}#sk-container-id-5 input.sk-hidden--visually {border: 0;clip: rect(1px 1px 1px 1px);clip: rect(1px, 1px, 1px, 1px);height: 1px;margin: -1px;overflow: hidden;padding: 0;position: absolute;width: 1px;}#sk-container-id-5 div.sk-estimator {font-family: monospace;background-color: #f0f8ff;border: 1px dotted black;border-radius: 0.25em;box-sizing: border-box;margin-bottom: 0.5em;}#sk-container-id-5 div.sk-estimator:hover {background-color: #d4ebff;}#sk-container-id-5 div.sk-parallel-item::after {content: \"\";width: 100%;border-bottom: 1px solid gray;flex-grow: 1;}#sk-container-id-5 div.sk-label:hover label.sk-toggleable__label {background-color: #d4ebff;}#sk-container-id-5 div.sk-serial::before {content: \"\";position: absolute;border-left: 1px solid gray;box-sizing: border-box;top: 0;bottom: 0;left: 50%;z-index: 0;}#sk-container-id-5 div.sk-serial {display: flex;flex-direction: column;align-items: center;background-color: white;padding-right: 0.2em;padding-left: 0.2em;position: relative;}#sk-container-id-5 div.sk-item {position: relative;z-index: 1;}#sk-container-id-5 div.sk-parallel {display: flex;align-items: stretch;justify-content: center;background-color: white;position: relative;}#sk-container-id-5 div.sk-item::before, #sk-container-id-5 div.sk-parallel-item::before {content: \"\";position: absolute;border-left: 1px solid gray;box-sizing: border-box;top: 0;bottom: 0;left: 50%;z-index: -1;}#sk-container-id-5 div.sk-parallel-item {display: flex;flex-direction: column;z-index: 1;position: relative;background-color: white;}#sk-container-id-5 div.sk-parallel-item:first-child::after {align-self: flex-end;width: 50%;}#sk-container-id-5 div.sk-parallel-item:last-child::after {align-self: flex-start;width: 50%;}#sk-container-id-5 div.sk-parallel-item:only-child::after {width: 0;}#sk-container-id-5 div.sk-dashed-wrapped {border: 1px dashed gray;margin: 0 0.4em 0.5em 0.4em;box-sizing: border-box;padding-bottom: 0.4em;background-color: white;}#sk-container-id-5 div.sk-label label {font-family: monospace;font-weight: bold;display: inline-block;line-height: 1.2em;}#sk-container-id-5 div.sk-label-container {text-align: center;}#sk-container-id-5 div.sk-container {/* jupyter's `normalize.less` sets `[hidden] { display: none; }` but bootstrap.min.css set `[hidden] { display: none !important; }` so we also need the `!important` here to be able to override the default hidden behavior on the sphinx rendered scikit-learn.org. See: https://github.com/scikit-learn/scikit-learn/issues/21755 */display: inline-block !important;position: relative;}#sk-container-id-5 div.sk-text-repr-fallback {display: none;}</style><div id=\"sk-container-id-5\" class=\"sk-top-container\"><div class=\"sk-text-repr-fallback\"><pre>Pipeline(steps=[(&#x27;preprocessor&#x27;,\n",
       "                 ColumnTransformer(remainder=&#x27;passthrough&#x27;,\n",
       "                                   transformers=[(&#x27;num&#x27;, StandardScaler(),\n",
       "                                                  Index([&#x27;AtBat&#x27;, &#x27;Hits&#x27;, &#x27;HmRun&#x27;, &#x27;Runs&#x27;, &#x27;RBI&#x27;, &#x27;Walks&#x27;, &#x27;Years&#x27;, &#x27;CAtBat&#x27;,\n",
       "       &#x27;CHits&#x27;, &#x27;CHmRun&#x27;, &#x27;CRuns&#x27;, &#x27;CRBI&#x27;, &#x27;CWalks&#x27;, &#x27;PutOuts&#x27;, &#x27;Assists&#x27;,\n",
       "       &#x27;Errors&#x27;],\n",
       "      dtype=&#x27;object&#x27;)),\n",
       "                                                 (&#x27;cat&#x27;, OneHotEncoder(),\n",
       "                                                  Index([&#x27;League&#x27;, &#x27;Division&#x27;, &#x27;NewLeague&#x27;], dtype=&#x27;object&#x27;))])),\n",
       "                (&#x27;elastic_net&#x27;,\n",
       "                 ElasticNet(alpha=0.015998587196060572, l1_ratio=0.12))])</pre><b>In a Jupyter environment, please rerun this cell to show the HTML representation or trust the notebook. <br />On GitHub, the HTML representation is unable to render, please try loading this page with nbviewer.org.</b></div><div class=\"sk-container\" hidden><div class=\"sk-item sk-dashed-wrapped\"><div class=\"sk-label-container\"><div class=\"sk-label sk-toggleable\"><input class=\"sk-toggleable__control sk-hidden--visually\" id=\"sk-estimator-id-37\" type=\"checkbox\" ><label for=\"sk-estimator-id-37\" class=\"sk-toggleable__label sk-toggleable__label-arrow\">Pipeline</label><div class=\"sk-toggleable__content\"><pre>Pipeline(steps=[(&#x27;preprocessor&#x27;,\n",
       "                 ColumnTransformer(remainder=&#x27;passthrough&#x27;,\n",
       "                                   transformers=[(&#x27;num&#x27;, StandardScaler(),\n",
       "                                                  Index([&#x27;AtBat&#x27;, &#x27;Hits&#x27;, &#x27;HmRun&#x27;, &#x27;Runs&#x27;, &#x27;RBI&#x27;, &#x27;Walks&#x27;, &#x27;Years&#x27;, &#x27;CAtBat&#x27;,\n",
       "       &#x27;CHits&#x27;, &#x27;CHmRun&#x27;, &#x27;CRuns&#x27;, &#x27;CRBI&#x27;, &#x27;CWalks&#x27;, &#x27;PutOuts&#x27;, &#x27;Assists&#x27;,\n",
       "       &#x27;Errors&#x27;],\n",
       "      dtype=&#x27;object&#x27;)),\n",
       "                                                 (&#x27;cat&#x27;, OneHotEncoder(),\n",
       "                                                  Index([&#x27;League&#x27;, &#x27;Division&#x27;, &#x27;NewLeague&#x27;], dtype=&#x27;object&#x27;))])),\n",
       "                (&#x27;elastic_net&#x27;,\n",
       "                 ElasticNet(alpha=0.015998587196060572, l1_ratio=0.12))])</pre></div></div></div><div class=\"sk-serial\"><div class=\"sk-item sk-dashed-wrapped\"><div class=\"sk-label-container\"><div class=\"sk-label sk-toggleable\"><input class=\"sk-toggleable__control sk-hidden--visually\" id=\"sk-estimator-id-38\" type=\"checkbox\" ><label for=\"sk-estimator-id-38\" class=\"sk-toggleable__label sk-toggleable__label-arrow\">preprocessor: ColumnTransformer</label><div class=\"sk-toggleable__content\"><pre>ColumnTransformer(remainder=&#x27;passthrough&#x27;,\n",
       "                  transformers=[(&#x27;num&#x27;, StandardScaler(),\n",
       "                                 Index([&#x27;AtBat&#x27;, &#x27;Hits&#x27;, &#x27;HmRun&#x27;, &#x27;Runs&#x27;, &#x27;RBI&#x27;, &#x27;Walks&#x27;, &#x27;Years&#x27;, &#x27;CAtBat&#x27;,\n",
       "       &#x27;CHits&#x27;, &#x27;CHmRun&#x27;, &#x27;CRuns&#x27;, &#x27;CRBI&#x27;, &#x27;CWalks&#x27;, &#x27;PutOuts&#x27;, &#x27;Assists&#x27;,\n",
       "       &#x27;Errors&#x27;],\n",
       "      dtype=&#x27;object&#x27;)),\n",
       "                                (&#x27;cat&#x27;, OneHotEncoder(),\n",
       "                                 Index([&#x27;League&#x27;, &#x27;Division&#x27;, &#x27;NewLeague&#x27;], dtype=&#x27;object&#x27;))])</pre></div></div></div><div class=\"sk-parallel\"><div class=\"sk-parallel-item\"><div class=\"sk-item\"><div class=\"sk-label-container\"><div class=\"sk-label sk-toggleable\"><input class=\"sk-toggleable__control sk-hidden--visually\" id=\"sk-estimator-id-39\" type=\"checkbox\" ><label for=\"sk-estimator-id-39\" class=\"sk-toggleable__label sk-toggleable__label-arrow\">num</label><div class=\"sk-toggleable__content\"><pre>Index([&#x27;AtBat&#x27;, &#x27;Hits&#x27;, &#x27;HmRun&#x27;, &#x27;Runs&#x27;, &#x27;RBI&#x27;, &#x27;Walks&#x27;, &#x27;Years&#x27;, &#x27;CAtBat&#x27;,\n",
       "       &#x27;CHits&#x27;, &#x27;CHmRun&#x27;, &#x27;CRuns&#x27;, &#x27;CRBI&#x27;, &#x27;CWalks&#x27;, &#x27;PutOuts&#x27;, &#x27;Assists&#x27;,\n",
       "       &#x27;Errors&#x27;],\n",
       "      dtype=&#x27;object&#x27;)</pre></div></div></div><div class=\"sk-serial\"><div class=\"sk-item\"><div class=\"sk-estimator sk-toggleable\"><input class=\"sk-toggleable__control sk-hidden--visually\" id=\"sk-estimator-id-40\" type=\"checkbox\" ><label for=\"sk-estimator-id-40\" class=\"sk-toggleable__label sk-toggleable__label-arrow\">StandardScaler</label><div class=\"sk-toggleable__content\"><pre>StandardScaler()</pre></div></div></div></div></div></div><div class=\"sk-parallel-item\"><div class=\"sk-item\"><div class=\"sk-label-container\"><div class=\"sk-label sk-toggleable\"><input class=\"sk-toggleable__control sk-hidden--visually\" id=\"sk-estimator-id-41\" type=\"checkbox\" ><label for=\"sk-estimator-id-41\" class=\"sk-toggleable__label sk-toggleable__label-arrow\">cat</label><div class=\"sk-toggleable__content\"><pre>Index([&#x27;League&#x27;, &#x27;Division&#x27;, &#x27;NewLeague&#x27;], dtype=&#x27;object&#x27;)</pre></div></div></div><div class=\"sk-serial\"><div class=\"sk-item\"><div class=\"sk-estimator sk-toggleable\"><input class=\"sk-toggleable__control sk-hidden--visually\" id=\"sk-estimator-id-42\" type=\"checkbox\" ><label for=\"sk-estimator-id-42\" class=\"sk-toggleable__label sk-toggleable__label-arrow\">OneHotEncoder</label><div class=\"sk-toggleable__content\"><pre>OneHotEncoder()</pre></div></div></div></div></div></div><div class=\"sk-parallel-item\"><div class=\"sk-item\"><div class=\"sk-label-container\"><div class=\"sk-label sk-toggleable\"><input class=\"sk-toggleable__control sk-hidden--visually\" id=\"sk-estimator-id-43\" type=\"checkbox\" ><label for=\"sk-estimator-id-43\" class=\"sk-toggleable__label sk-toggleable__label-arrow\">remainder</label><div class=\"sk-toggleable__content\"><pre>[]</pre></div></div></div><div class=\"sk-serial\"><div class=\"sk-item\"><div class=\"sk-estimator sk-toggleable\"><input class=\"sk-toggleable__control sk-hidden--visually\" id=\"sk-estimator-id-44\" type=\"checkbox\" ><label for=\"sk-estimator-id-44\" class=\"sk-toggleable__label sk-toggleable__label-arrow\">passthrough</label><div class=\"sk-toggleable__content\"><pre>passthrough</pre></div></div></div></div></div></div></div></div><div class=\"sk-item\"><div class=\"sk-estimator sk-toggleable\"><input class=\"sk-toggleable__control sk-hidden--visually\" id=\"sk-estimator-id-45\" type=\"checkbox\" ><label for=\"sk-estimator-id-45\" class=\"sk-toggleable__label sk-toggleable__label-arrow\">ElasticNet</label><div class=\"sk-toggleable__content\"><pre>ElasticNet(alpha=0.015998587196060572, l1_ratio=0.12)</pre></div></div></div></div></div></div></div>"
      ],
      "text/plain": [
       "Pipeline(steps=[('preprocessor',\n",
       "                 ColumnTransformer(remainder='passthrough',\n",
       "                                   transformers=[('num', StandardScaler(),\n",
       "                                                  Index(['AtBat', 'Hits', 'HmRun', 'Runs', 'RBI', 'Walks', 'Years', 'CAtBat',\n",
       "       'CHits', 'CHmRun', 'CRuns', 'CRBI', 'CWalks', 'PutOuts', 'Assists',\n",
       "       'Errors'],\n",
       "      dtype='object')),\n",
       "                                                 ('cat', OneHotEncoder(),\n",
       "                                                  Index(['League', 'Division', 'NewLeague'], dtype='object'))])),\n",
       "                ('elastic_net',\n",
       "                 ElasticNet(alpha=0.015998587196060572, l1_ratio=0.12))])"
      ]
     },
     "execution_count": 25,
     "metadata": {},
     "output_type": "execute_result"
    }
   ],
   "source": [
    "from sklearn.linear_model import ElasticNetCV\n",
    "\n",
    "# Range of alpha\n",
    "alpha_range = np.logspace(-4, 2, 50)  # 0.0001 to 100\n",
    "\n",
    "# Range of l1_ratio values to try (0 = Ridge, 1 = Lasso)\n",
    "l1_ratio_range = np.linspace(0.01, 1, 10)  # 0.01 to 1\n",
    "\n",
    "# ElasticNetCV with ranges for alpha and l1_ratio\n",
    "elastic_net_cv = ElasticNetCV(alphas=alpha_range, l1_ratio=l1_ratio_range, cv=5, max_iter=10000)\n",
    "\n",
    "elastic_net_cv.fit(X_transformed, y)\n",
    "best_alpha, best_l1_ratio = elastic_net_cv.alpha_, elastic_net_cv.l1_ratio_\n",
    "\n",
    "\n",
    "elastic_net_pipeline.set_params(elastic_net__alpha=best_alpha, elastic_net__l1_ratio=best_l1_ratio)"
   ]
  },
  {
   "cell_type": "markdown",
   "metadata": {},
   "source": [
    "3. Fit the pipeline with your chosen hyperparameters to the full dataset, and interpret a few of the most important coefficients."
   ]
  },
  {
   "cell_type": "code",
   "execution_count": 26,
   "metadata": {},
   "outputs": [
    {
     "data": {
      "text/plain": [
       "Hits      227.031614\n",
       "AtBat    -212.170328\n",
       "CRuns     194.803870\n",
       "CWalks   -142.862782\n",
       "CHits     119.137279\n",
       "dtype: float64"
      ]
     },
     "execution_count": 26,
     "metadata": {},
     "output_type": "execute_result"
    }
   ],
   "source": [
    "elastic_net_pipeline.fit(X, y)\n",
    "\n",
    "# the top 5 most influential coefficients\n",
    "elastic_net_coefficients = pd.Series(elastic_net_pipeline.named_steps['elastic_net'].coef_, \n",
    "                                     index=preprocessor.named_transformers_['num'].get_feature_names_out().tolist() + \\\n",
    "                                     preprocessor.named_transformers_['cat'].get_feature_names_out().tolist()) \\\n",
    "                                     .sort_values(key=abs, ascending=False).head(5)\n",
    "elastic_net_coefficients"
   ]
  },
  {
   "cell_type": "markdown",
   "metadata": {},
   "source": [
    "For Elastic Net, 'Hits' and 'CRuns' again emerge as strong positive predictors of salary, while 'AtBat' and 'CWalks' negatively impact salary. 'CHits' also positively correlates with salary"
   ]
  },
  {
   "cell_type": "markdown",
   "metadata": {},
   "source": [
    "4. Report the MSE you would expect if you used this pipeline to predict 1989 salaries."
   ]
  },
  {
   "cell_type": "code",
   "execution_count": 27,
   "metadata": {},
   "outputs": [
    {
     "data": {
      "text/plain": [
       "118938.14559498514"
      ]
     },
     "execution_count": 27,
     "metadata": {},
     "output_type": "execute_result"
    }
   ],
   "source": [
    "# Estimating the MSE for Elastic Net\n",
    "elastic_net_mse_scores = -cross_val_score(elastic_net_pipeline, X, y, cv=5, scoring='neg_mean_squared_error')\n",
    "elastic_net_average_mse = np.mean(elastic_net_mse_scores)\n",
    "elastic_net_average_mse"
   ]
  },
  {
   "cell_type": "markdown",
   "metadata": {},
   "source": [
    "The MSE is even better for elastic vs all the other models: Elastic Net: ~118,938"
   ]
  },
  {
   "cell_type": "markdown",
   "metadata": {},
   "source": [
    "## Part II. Variable Selection"
   ]
  },
  {
   "cell_type": "code",
   "execution_count": 96,
   "metadata": {},
   "outputs": [],
   "source": [
    "X = hitters_data_clean[['Hits','CRBI','CRuns','AtBat','Years','Division']]\n",
    "\n",
    "y = hitters_data_clean[\"Salary\"]"
   ]
  },
  {
   "cell_type": "markdown",
   "metadata": {},
   "source": [
    "### Linear"
   ]
  },
  {
   "cell_type": "code",
   "execution_count": 61,
   "metadata": {},
   "outputs": [
    {
     "name": "stdout",
     "output_type": "stream",
     "text": [
      "LR Hits Mean Squared Error: 173088.9728644403\n"
     ]
    }
   ],
   "source": [
    "#LR Only Hits\n",
    "ct = ColumnTransformer(\n",
    "    transformers=[\n",
    "        ('Standardize', StandardScaler(), ['Hits']),\n",
    "    ], remainder = \"drop\"\n",
    ").set_output(transform = \"pandas\")\n",
    "\n",
    "lr_pipelineHits = Pipeline([\n",
    "    ('preprocessing', ct),\n",
    "    ('linear_regression', LinearRegression())\n",
    "])\n",
    "\n",
    "lr_pipelineHits.fit(X, y)\n",
    "\n",
    "scores = cross_val_score(lr_pipelineHits, X, y, cv=5, scoring='neg_mean_squared_error')\n",
    "\n",
    "mse_scores = -scores\n",
    "mean_mse = mse_scores.mean()\n",
    "\n",
    "print(f\"LR Hits Mean Squared Error: {mean_mse}\")"
   ]
  },
  {
   "cell_type": "code",
   "execution_count": 67,
   "metadata": {},
   "outputs": [
    {
     "name": "stdout",
     "output_type": "stream",
     "text": [
      "LR Top 5 Mean Squared Error: 121965.38677911204\n"
     ]
    }
   ],
   "source": [
    "#LR Top 5\n",
    "# Column transformer that standardizes and dummies\n",
    "ct = ColumnTransformer(\n",
    "    transformers=[\n",
    "        ('Standardize', StandardScaler(), ['Hits','CRBI','CRuns','AtBat','Years']),\n",
    "    ], remainder = \"drop\"\n",
    ").set_output(transform = \"pandas\")\n",
    "\n",
    "# pipeline\n",
    "lr_pipelineTop5 = Pipeline([\n",
    "    ('preprocessing', ct),\n",
    "    ('linear_regression', LinearRegression())\n",
    "])\n",
    "\n",
    "# Fit pipline\n",
    "lr_pipelineTop5.fit(X, y)\n",
    "\n",
    "\n",
    "scores = cross_val_score(lr_pipelineTop5, X, y, cv=5, scoring='neg_mean_squared_error')\n",
    "\n",
    "mse_scores = -scores\n",
    "mean_mse = mse_scores.mean()\n",
    "\n",
    "print(f\"LR Top 5 Mean Squared Error: {mean_mse}\")"
   ]
  },
  {
   "cell_type": "code",
   "execution_count": 68,
   "metadata": {},
   "outputs": [
    {
     "name": "stdout",
     "output_type": "stream",
     "text": [
      "LR Top 5 + Interact Mean Squared Error: 123078.47016346455\n"
     ]
    }
   ],
   "source": [
    "# LR Top 5 + Interaction\n",
    "# Column transformer that standardizes and dummies\n",
    "ct = ColumnTransformer(\n",
    "    transformers=[\n",
    "        (\"dummify\", OneHotEncoder(sparse_output = False), [\"Division\"]),\n",
    "        ('Standardize', StandardScaler(), ['Hits','CRBI','CRuns','AtBat','Years']),\n",
    "    ], remainder = \"passthrough\"\n",
    ").set_output(transform = \"pandas\")\n",
    "\n",
    "ct_inter = ColumnTransformer(\n",
    "  [\n",
    "    (\"interaction1\", PolynomialFeatures(interaction_only = True), [\"Standardize__Hits\", \"dummify__Division_E\"]),\n",
    "    (\"interaction2\", PolynomialFeatures(interaction_only = True), [\"Standardize__CRBI\", \"dummify__Division_E\"]),\n",
    "    (\"interaction3\", PolynomialFeatures(interaction_only = True), [\"Standardize__CRuns\", \"dummify__Division_E\"]),\n",
    "    (\"interaction4\", PolynomialFeatures(interaction_only = True), [\"Standardize__AtBat\", \"dummify__Division_E\"]),\n",
    "    (\"interaction5\", PolynomialFeatures(interaction_only = True), [\"Standardize__Years\", \"dummify__Division_E\"]),\n",
    "  ],\n",
    "  remainder = \"drop\"\n",
    ").set_output(transform = \"pandas\")\n",
    "\n",
    "# pipeline\n",
    "lr_pipelineTop5int = Pipeline([\n",
    "    ('preprocessing', ct),\n",
    "   (\"interaction\", ct_inter),\n",
    "    ('linear_regression', LinearRegression())\n",
    "])\n",
    "\n",
    "# Fit pipline\n",
    "lr_pipelineTop5int.fit(X, y)\n",
    "\n",
    "\n",
    "scores = cross_val_score(lr_pipelineTop5int, X, y, cv=5, scoring='neg_mean_squared_error')\n",
    "\n",
    "mse_scores = -scores\n",
    "mean_mse = mse_scores.mean()\n",
    "\n",
    "print(f\"LR Top 5 + Interact Mean Squared Error: {mean_mse}\")"
   ]
  },
  {
   "cell_type": "markdown",
   "metadata": {},
   "source": [
    "Top5 no interaction performed the best. "
   ]
  },
  {
   "cell_type": "markdown",
   "metadata": {},
   "source": [
    "### Ridge "
   ]
  },
  {
   "cell_type": "code",
   "execution_count": 71,
   "metadata": {},
   "outputs": [
    {
     "data": {
      "text/html": [
       "<div>\n",
       "<style scoped>\n",
       "    .dataframe tbody tr th:only-of-type {\n",
       "        vertical-align: middle;\n",
       "    }\n",
       "\n",
       "    .dataframe tbody tr th {\n",
       "        vertical-align: top;\n",
       "    }\n",
       "\n",
       "    .dataframe thead th {\n",
       "        text-align: right;\n",
       "    }\n",
       "</style>\n",
       "<table border=\"1\" class=\"dataframe\">\n",
       "  <thead>\n",
       "    <tr style=\"text-align: right;\">\n",
       "      <th></th>\n",
       "      <th>lambdas</th>\n",
       "      <th>MSE scores</th>\n",
       "    </tr>\n",
       "  </thead>\n",
       "  <tbody>\n",
       "    <tr>\n",
       "      <th>0</th>\n",
       "      <td>1</td>\n",
       "      <td>173046.230311</td>\n",
       "    </tr>\n",
       "    <tr>\n",
       "      <th>1</th>\n",
       "      <td>10</td>\n",
       "      <td>172755.975523</td>\n",
       "    </tr>\n",
       "    <tr>\n",
       "      <th>2</th>\n",
       "      <td>100</td>\n",
       "      <td>174448.308656</td>\n",
       "    </tr>\n",
       "  </tbody>\n",
       "</table>\n",
       "</div>"
      ],
      "text/plain": [
       "   lambdas     MSE scores\n",
       "0        1  173046.230311\n",
       "1       10  172755.975523\n",
       "2      100  174448.308656"
      ]
     },
     "execution_count": 71,
     "metadata": {},
     "output_type": "execute_result"
    }
   ],
   "source": [
    "# Ridge Only Hits Tuning\n",
    "\n",
    "ct = ColumnTransformer(\n",
    "    transformers=[\n",
    "        ('Standardize', StandardScaler(), ['Hits']),\n",
    "    ], remainder = \"drop\"\n",
    ").set_output(transform = \"pandas\")\n",
    "\n",
    "\n",
    "ridge_pipelineHits = Pipeline(\n",
    "  [(\"preprocessing\", ct),\n",
    "  (\"ridge_regression\", Ridge())]\n",
    ")\n",
    "\n",
    "results = [1,10,100]\n",
    "\n",
    "lambdas = {'ridge_regression__alpha': results}\n",
    "\n",
    "gscv = GridSearchCV(ridge_pipelineHits, lambdas, cv = 5, scoring='neg_mean_squared_error')\n",
    "\n",
    "gscv_fitted = gscv.fit(X, y)\n",
    "mse_scores = -gscv_fitted.cv_results_['mean_test_score']\n",
    "pd.DataFrame(data={\"lambdas\": results, \"MSE scores\": mse_scores})"
   ]
  },
  {
   "cell_type": "code",
   "execution_count": 72,
   "metadata": {},
   "outputs": [
    {
     "name": "stdout",
     "output_type": "stream",
     "text": [
      "Ridge Reg Hits Mean Squared Error: 172755.97552343184\n"
     ]
    }
   ],
   "source": [
    "# Ridge Only Hits\n",
    "# optimal lambda\n",
    "ridge_pipelineHits = Pipeline(\n",
    "  [(\"preprocessing\", ct),\n",
    "  (\"ridge_regression\", Ridge(alpha=10))]\n",
    ")\n",
    "\n",
    "ridge_pipelineHits.fit(X,y)\n",
    "\n",
    "scores = cross_val_score(ridge_pipelineHits, X, y, cv=5, scoring='neg_mean_squared_error')\n",
    "\n",
    "mse_scores = -scores\n",
    "mean_mse = mse_scores.mean()\n",
    "\n",
    "print(f\"Ridge Reg Hits Mean Squared Error: {mean_mse}\")"
   ]
  },
  {
   "cell_type": "code",
   "execution_count": 73,
   "metadata": {},
   "outputs": [
    {
     "data": {
      "text/html": [
       "<div>\n",
       "<style scoped>\n",
       "    .dataframe tbody tr th:only-of-type {\n",
       "        vertical-align: middle;\n",
       "    }\n",
       "\n",
       "    .dataframe tbody tr th {\n",
       "        vertical-align: top;\n",
       "    }\n",
       "\n",
       "    .dataframe thead th {\n",
       "        text-align: right;\n",
       "    }\n",
       "</style>\n",
       "<table border=\"1\" class=\"dataframe\">\n",
       "  <thead>\n",
       "    <tr style=\"text-align: right;\">\n",
       "      <th></th>\n",
       "      <th>lambdas</th>\n",
       "      <th>MSE scores</th>\n",
       "    </tr>\n",
       "  </thead>\n",
       "  <tbody>\n",
       "    <tr>\n",
       "      <th>0</th>\n",
       "      <td>0.1</td>\n",
       "      <td>121934.974976</td>\n",
       "    </tr>\n",
       "    <tr>\n",
       "      <th>1</th>\n",
       "      <td>1.0</td>\n",
       "      <td>121778.986574</td>\n",
       "    </tr>\n",
       "    <tr>\n",
       "      <th>2</th>\n",
       "      <td>10.0</td>\n",
       "      <td>122847.118379</td>\n",
       "    </tr>\n",
       "    <tr>\n",
       "      <th>3</th>\n",
       "      <td>100.0</td>\n",
       "      <td>128010.789865</td>\n",
       "    </tr>\n",
       "  </tbody>\n",
       "</table>\n",
       "</div>"
      ],
      "text/plain": [
       "   lambdas     MSE scores\n",
       "0      0.1  121934.974976\n",
       "1      1.0  121778.986574\n",
       "2     10.0  122847.118379\n",
       "3    100.0  128010.789865"
      ]
     },
     "execution_count": 73,
     "metadata": {},
     "output_type": "execute_result"
    }
   ],
   "source": [
    "#Ridge Top 5 Tuning\n",
    "#Only Hits\n",
    "\n",
    "ct = ColumnTransformer(\n",
    "    transformers=[\n",
    "        ('Standardize', StandardScaler(), ['Hits','CRBI','CRuns','AtBat','Years']),\n",
    "    ], remainder = \"drop\"\n",
    ").set_output(transform = \"pandas\")\n",
    "\n",
    "\n",
    "ridge_pipelineTop5 = Pipeline(\n",
    "  [(\"preprocessing\", ct),\n",
    "  (\"ridge_regression\", Ridge())]\n",
    ")\n",
    "\n",
    "results = [0.1,1,10,100]\n",
    "\n",
    "lambdas = {'ridge_regression__alpha': results}\n",
    "\n",
    "gscv = GridSearchCV(ridge_pipelineTop5, lambdas, cv = 5, scoring='neg_mean_squared_error')\n",
    "\n",
    "gscv_fitted = gscv.fit(X, y)\n",
    "mse_scores = -gscv_fitted.cv_results_['mean_test_score']\n",
    "pd.DataFrame(data={\"lambdas\": results, \"MSE scores\": mse_scores})"
   ]
  },
  {
   "cell_type": "code",
   "execution_count": 74,
   "metadata": {},
   "outputs": [
    {
     "name": "stdout",
     "output_type": "stream",
     "text": [
      "Ridge Reg Top5 Mean Squared Error: 121778.98657389611\n"
     ]
    }
   ],
   "source": [
    "#Ridge Top 5\n",
    "\n",
    "# optimal lambda\n",
    "ridge_pipelineTop5 = Pipeline(\n",
    "  [(\"preprocessing\", ct),\n",
    "  (\"ridge_regression\", Ridge(alpha=1))]\n",
    ")\n",
    "\n",
    "ridge_pipelineTop5.fit(X,y)\n",
    "\n",
    "scores = cross_val_score(ridge_pipelineTop5, X, y, cv=5, scoring='neg_mean_squared_error')\n",
    "\n",
    "mse_scores = -scores\n",
    "mean_mse = mse_scores.mean()\n",
    "\n",
    "print(f\"Ridge Reg Top5 Mean Squared Error: {mean_mse}\")"
   ]
  },
  {
   "cell_type": "code",
   "execution_count": 75,
   "metadata": {},
   "outputs": [
    {
     "data": {
      "text/html": [
       "<div>\n",
       "<style scoped>\n",
       "    .dataframe tbody tr th:only-of-type {\n",
       "        vertical-align: middle;\n",
       "    }\n",
       "\n",
       "    .dataframe tbody tr th {\n",
       "        vertical-align: top;\n",
       "    }\n",
       "\n",
       "    .dataframe thead th {\n",
       "        text-align: right;\n",
       "    }\n",
       "</style>\n",
       "<table border=\"1\" class=\"dataframe\">\n",
       "  <thead>\n",
       "    <tr style=\"text-align: right;\">\n",
       "      <th></th>\n",
       "      <th>lambdas</th>\n",
       "      <th>MSE scores</th>\n",
       "    </tr>\n",
       "  </thead>\n",
       "  <tbody>\n",
       "    <tr>\n",
       "      <th>0</th>\n",
       "      <td>1</td>\n",
       "      <td>118417.245434</td>\n",
       "    </tr>\n",
       "    <tr>\n",
       "      <th>1</th>\n",
       "      <td>10</td>\n",
       "      <td>115922.255583</td>\n",
       "    </tr>\n",
       "    <tr>\n",
       "      <th>2</th>\n",
       "      <td>100</td>\n",
       "      <td>120460.461112</td>\n",
       "    </tr>\n",
       "    <tr>\n",
       "      <th>3</th>\n",
       "      <td>1000</td>\n",
       "      <td>147194.772549</td>\n",
       "    </tr>\n",
       "  </tbody>\n",
       "</table>\n",
       "</div>"
      ],
      "text/plain": [
       "   lambdas     MSE scores\n",
       "0        1  118417.245434\n",
       "1       10  115922.255583\n",
       "2      100  120460.461112\n",
       "3     1000  147194.772549"
      ]
     },
     "execution_count": 75,
     "metadata": {},
     "output_type": "execute_result"
    }
   ],
   "source": [
    "#Ridge Top 5 + Interaction Tuning\n",
    "\n",
    "ct = ColumnTransformer(\n",
    "    transformers=[\n",
    "        (\"dummify\", OneHotEncoder(sparse_output = False), [\"Division\"]),\n",
    "        ('Standardize', StandardScaler(), ['Hits','CRBI','CRuns','AtBat','Years']),\n",
    "    ], remainder = \"passthrough\"\n",
    ").set_output(transform = \"pandas\")\n",
    "\n",
    "ct_inter = ColumnTransformer(\n",
    "  [\n",
    "    (\"interaction1\", PolynomialFeatures(interaction_only = True), [\"Standardize__Hits\", \"dummify__Division_E\"]),\n",
    "    (\"interaction2\", PolynomialFeatures(interaction_only = True), [\"Standardize__CRBI\", \"dummify__Division_E\"]),\n",
    "    (\"interaction3\", PolynomialFeatures(interaction_only = True), [\"Standardize__CRuns\", \"dummify__Division_E\"]),\n",
    "    (\"interaction4\", PolynomialFeatures(interaction_only = True), [\"Standardize__AtBat\", \"dummify__Division_E\"]),\n",
    "    (\"interaction5\", PolynomialFeatures(interaction_only = True), [\"Standardize__Years\", \"dummify__Division_E\"]),\n",
    "  ],\n",
    "  remainder = \"drop\"\n",
    ").set_output(transform = \"pandas\")\n",
    "\n",
    "# Creates pipeline\n",
    "ridge_pipelineTop5int = Pipeline([\n",
    "    ('preprocessing', ct),\n",
    "   (\"interaction\", ct_inter),\n",
    "    ('ridge_regression', Ridge())\n",
    "])\n",
    "\n",
    "results = [1,10,100,1000]\n",
    "\n",
    "lambdas = {'ridge_regression__alpha': results}\n",
    "\n",
    "gscv = GridSearchCV(ridge_pipelineTop5int, lambdas, cv = 5, scoring='neg_mean_squared_error')\n",
    "\n",
    "gscv_fitted = gscv.fit(X, y)\n",
    "mse_scores = -gscv_fitted.cv_results_['mean_test_score']\n",
    "pd.DataFrame(data={\"lambdas\": results, \"MSE scores\": mse_scores})"
   ]
  },
  {
   "cell_type": "code",
   "execution_count": 77,
   "metadata": {},
   "outputs": [
    {
     "name": "stdout",
     "output_type": "stream",
     "text": [
      "Ridge Reg Top5 + Int Mean Squared Error: 115922.25558303522\n"
     ]
    }
   ],
   "source": [
    "#Ridge Top 5 + Interaction\n",
    "\n",
    "\n",
    "ridge_pipelineTop5int = Pipeline([\n",
    "    ('preprocessing', ct),\n",
    "   (\"interaction\", ct_inter),\n",
    "    ('ridge_regression', Ridge(alpha=10))\n",
    "])\n",
    "\n",
    "ridge_pipelineTop5int.fit(X,y)\n",
    "\n",
    "scores = cross_val_score(ridge_pipelineTop5int, X, y, cv=5, scoring='neg_mean_squared_error')\n",
    "mse_scores = -scores\n",
    "mean_mse = mse_scores.mean()\n",
    "\n",
    "print(f\"Ridge Reg Top5 + Int Mean Squared Error: {mean_mse}\")"
   ]
  },
  {
   "cell_type": "markdown",
   "metadata": {},
   "source": [
    "### Lasso"
   ]
  },
  {
   "cell_type": "code",
   "execution_count": 78,
   "metadata": {},
   "outputs": [
    {
     "data": {
      "text/html": [
       "<div>\n",
       "<style scoped>\n",
       "    .dataframe tbody tr th:only-of-type {\n",
       "        vertical-align: middle;\n",
       "    }\n",
       "\n",
       "    .dataframe tbody tr th {\n",
       "        vertical-align: top;\n",
       "    }\n",
       "\n",
       "    .dataframe thead th {\n",
       "        text-align: right;\n",
       "    }\n",
       "</style>\n",
       "<table border=\"1\" class=\"dataframe\">\n",
       "  <thead>\n",
       "    <tr style=\"text-align: right;\">\n",
       "      <th></th>\n",
       "      <th>lambdas</th>\n",
       "      <th>MSE scores</th>\n",
       "    </tr>\n",
       "  </thead>\n",
       "  <tbody>\n",
       "    <tr>\n",
       "      <th>0</th>\n",
       "      <td>1</td>\n",
       "      <td>173076.934306</td>\n",
       "    </tr>\n",
       "    <tr>\n",
       "      <th>1</th>\n",
       "      <td>10</td>\n",
       "      <td>173061.634500</td>\n",
       "    </tr>\n",
       "    <tr>\n",
       "      <th>2</th>\n",
       "      <td>100</td>\n",
       "      <td>182120.311402</td>\n",
       "    </tr>\n",
       "  </tbody>\n",
       "</table>\n",
       "</div>"
      ],
      "text/plain": [
       "   lambdas     MSE scores\n",
       "0        1  173076.934306\n",
       "1       10  173061.634500\n",
       "2      100  182120.311402"
      ]
     },
     "execution_count": 78,
     "metadata": {},
     "output_type": "execute_result"
    }
   ],
   "source": [
    "# Lasso Only Hits Tuning\n",
    "\n",
    "ct = ColumnTransformer(\n",
    "    transformers=[\n",
    "        ('Standardize', StandardScaler(), ['Hits']),\n",
    "    ], remainder = \"drop\"\n",
    ").set_output(transform = \"pandas\")\n",
    "\n",
    "\n",
    "lasso_pipelineHits = Pipeline(\n",
    "  [(\"preprocessing\", ct),\n",
    "  (\"lasso_regression\", Lasso())]\n",
    ")\n",
    "\n",
    "results = [1,10,100]\n",
    "\n",
    "lambdas = {'lasso_regression__alpha': results}\n",
    "\n",
    "gscv = GridSearchCV(lasso_pipelineHits, lambdas, cv = 5, scoring='neg_mean_squared_error')\n",
    "\n",
    "gscv_fitted = gscv.fit(X, y)\n",
    "mse_scores = -gscv_fitted.cv_results_['mean_test_score']\n",
    "pd.DataFrame(data={\"lambdas\": results, \"MSE scores\": mse_scores})"
   ]
  },
  {
   "cell_type": "code",
   "execution_count": 79,
   "metadata": {},
   "outputs": [
    {
     "name": "stdout",
     "output_type": "stream",
     "text": [
      "Lasso Reg Hits Mean Squared Error: 173061.63450002926\n"
     ]
    }
   ],
   "source": [
    "# Lasso Only Hits\n",
    "\n",
    "# optimal lambda\n",
    "lasso_pipelineHits = Pipeline(\n",
    "  [(\"preprocessing\", ct),\n",
    "  (\"lasso_regression\", Lasso(alpha=10))]\n",
    ")\n",
    "\n",
    "lasso_pipelineHits.fit(X,y)\n",
    "\n",
    "scores = cross_val_score(lasso_pipelineHits, X, y, cv=5, scoring='neg_mean_squared_error')\n",
    "\n",
    "mse_scores = -scores\n",
    "mean_mse = mse_scores.mean()\n",
    "\n",
    "print(f\"Lasso Reg Hits Mean Squared Error: {mean_mse}\")"
   ]
  },
  {
   "cell_type": "code",
   "execution_count": 80,
   "metadata": {},
   "outputs": [
    {
     "data": {
      "text/html": [
       "<div>\n",
       "<style scoped>\n",
       "    .dataframe tbody tr th:only-of-type {\n",
       "        vertical-align: middle;\n",
       "    }\n",
       "\n",
       "    .dataframe tbody tr th {\n",
       "        vertical-align: top;\n",
       "    }\n",
       "\n",
       "    .dataframe thead th {\n",
       "        text-align: right;\n",
       "    }\n",
       "</style>\n",
       "<table border=\"1\" class=\"dataframe\">\n",
       "  <thead>\n",
       "    <tr style=\"text-align: right;\">\n",
       "      <th></th>\n",
       "      <th>lambdas</th>\n",
       "      <th>MSE scores</th>\n",
       "    </tr>\n",
       "  </thead>\n",
       "  <tbody>\n",
       "    <tr>\n",
       "      <th>0</th>\n",
       "      <td>1.000000e-07</td>\n",
       "      <td>121965.386815</td>\n",
       "    </tr>\n",
       "    <tr>\n",
       "      <th>1</th>\n",
       "      <td>1.000000e-06</td>\n",
       "      <td>121965.387148</td>\n",
       "    </tr>\n",
       "    <tr>\n",
       "      <th>2</th>\n",
       "      <td>1.000000e-05</td>\n",
       "      <td>121965.388535</td>\n",
       "    </tr>\n",
       "    <tr>\n",
       "      <th>3</th>\n",
       "      <td>1.000000e-04</td>\n",
       "      <td>121965.400834</td>\n",
       "    </tr>\n",
       "  </tbody>\n",
       "</table>\n",
       "</div>"
      ],
      "text/plain": [
       "        lambdas     MSE scores\n",
       "0  1.000000e-07  121965.386815\n",
       "1  1.000000e-06  121965.387148\n",
       "2  1.000000e-05  121965.388535\n",
       "3  1.000000e-04  121965.400834"
      ]
     },
     "execution_count": 80,
     "metadata": {},
     "output_type": "execute_result"
    }
   ],
   "source": [
    "#Lasso Top 5 Tuning\n",
    "\n",
    "ct = ColumnTransformer(\n",
    "    transformers=[\n",
    "        ('Standardize', StandardScaler(), ['Hits','CRBI','CRuns','AtBat','Years']),\n",
    "    ], remainder = \"drop\"\n",
    ").set_output(transform = \"pandas\")\n",
    "\n",
    "\n",
    "lasso_pipelineTop5 = Pipeline(\n",
    "  [(\"preprocessing\", ct),\n",
    "  (\"lasso_regression\", Lasso())]\n",
    ")\n",
    "\n",
    "results = [.0000001,.000001,.00001,.0001]\n",
    "\n",
    "lambdas = {'lasso_regression__alpha': results}\n",
    "\n",
    "gscv = GridSearchCV(lasso_pipelineTop5, lambdas, cv = 5, scoring='neg_mean_squared_error')\n",
    "\n",
    "gscv_fitted = gscv.fit(X, y)\n",
    "mse_scores = -gscv_fitted.cv_results_['mean_test_score']\n",
    "pd.DataFrame(data={\"lambdas\": results, \"MSE scores\": mse_scores})"
   ]
  },
  {
   "cell_type": "code",
   "execution_count": 81,
   "metadata": {},
   "outputs": [
    {
     "name": "stdout",
     "output_type": "stream",
     "text": [
      "Lasso Reg Top5 Mean Squared Error: 121965.38714827431\n"
     ]
    }
   ],
   "source": [
    "#Lasso Top 5\n",
    "\n",
    "\n",
    "# optimal lambda\n",
    "lasso_pipelineTop5 = Pipeline(\n",
    "  [(\"preprocessing\", ct),\n",
    "  (\"ridge_regression\", Lasso(alpha=.000001))]\n",
    ")\n",
    "\n",
    "lasso_pipelineTop5.fit(X,y)\n",
    "\n",
    "scores = cross_val_score(lasso_pipelineTop5, X, y, cv=5, scoring='neg_mean_squared_error')\n",
    "\n",
    "mse_scores = -scores\n",
    "mean_mse = mse_scores.mean()\n",
    "\n",
    "print(f\"Lasso Reg Top5 Mean Squared Error: {mean_mse}\")"
   ]
  },
  {
   "cell_type": "code",
   "execution_count": 82,
   "metadata": {},
   "outputs": [
    {
     "data": {
      "text/html": [
       "<div>\n",
       "<style scoped>\n",
       "    .dataframe tbody tr th:only-of-type {\n",
       "        vertical-align: middle;\n",
       "    }\n",
       "\n",
       "    .dataframe tbody tr th {\n",
       "        vertical-align: top;\n",
       "    }\n",
       "\n",
       "    .dataframe thead th {\n",
       "        text-align: right;\n",
       "    }\n",
       "</style>\n",
       "<table border=\"1\" class=\"dataframe\">\n",
       "  <thead>\n",
       "    <tr style=\"text-align: right;\">\n",
       "      <th></th>\n",
       "      <th>lambdas</th>\n",
       "      <th>MSE scores</th>\n",
       "    </tr>\n",
       "  </thead>\n",
       "  <tbody>\n",
       "    <tr>\n",
       "      <th>0</th>\n",
       "      <td>1</td>\n",
       "      <td>118417.245434</td>\n",
       "    </tr>\n",
       "    <tr>\n",
       "      <th>1</th>\n",
       "      <td>10</td>\n",
       "      <td>115922.255583</td>\n",
       "    </tr>\n",
       "    <tr>\n",
       "      <th>2</th>\n",
       "      <td>100</td>\n",
       "      <td>120460.461112</td>\n",
       "    </tr>\n",
       "    <tr>\n",
       "      <th>3</th>\n",
       "      <td>1000</td>\n",
       "      <td>147194.772549</td>\n",
       "    </tr>\n",
       "  </tbody>\n",
       "</table>\n",
       "</div>"
      ],
      "text/plain": [
       "   lambdas     MSE scores\n",
       "0        1  118417.245434\n",
       "1       10  115922.255583\n",
       "2      100  120460.461112\n",
       "3     1000  147194.772549"
      ]
     },
     "execution_count": 82,
     "metadata": {},
     "output_type": "execute_result"
    }
   ],
   "source": [
    "#Lasso Top 5 + Interaction Tuning\n",
    "\n",
    "ct = ColumnTransformer(\n",
    "    transformers=[\n",
    "        (\"dummify\", OneHotEncoder(sparse_output = False), [\"Division\"]),\n",
    "        ('Standardize', StandardScaler(), ['Hits','CRBI','CRuns','AtBat','Years']),\n",
    "    ], remainder = \"passthrough\"\n",
    ").set_output(transform = \"pandas\")\n",
    "\n",
    "ct_inter = ColumnTransformer(\n",
    "  [\n",
    "    (\"interaction1\", PolynomialFeatures(interaction_only = True), [\"Standardize__Hits\", \"dummify__Division_E\"]),\n",
    "    (\"interaction2\", PolynomialFeatures(interaction_only = True), [\"Standardize__CRBI\", \"dummify__Division_E\"]),\n",
    "    (\"interaction3\", PolynomialFeatures(interaction_only = True), [\"Standardize__CRuns\", \"dummify__Division_E\"]),\n",
    "    (\"interaction4\", PolynomialFeatures(interaction_only = True), [\"Standardize__AtBat\", \"dummify__Division_E\"]),\n",
    "    (\"interaction5\", PolynomialFeatures(interaction_only = True), [\"Standardize__Years\", \"dummify__Division_E\"]),\n",
    "  ],\n",
    "  remainder = \"drop\"\n",
    ").set_output(transform = \"pandas\")\n",
    "\n",
    "\n",
    "lasso_pipelineTop5int = Pipeline([\n",
    "    ('preprocessing', ct),\n",
    "   (\"interaction\", ct_inter),\n",
    "    ('lasso_regression', Ridge())\n",
    "])\n",
    "\n",
    "results = [1,10,100,1000]\n",
    "\n",
    "lambdas = {'lasso_regression__alpha': results}\n",
    "\n",
    "gscv = GridSearchCV(lasso_pipelineTop5int, lambdas, cv = 5, scoring='neg_mean_squared_error')\n",
    "\n",
    "gscv_fitted = gscv.fit(X, y)\n",
    "mse_scores = -gscv_fitted.cv_results_['mean_test_score']\n",
    "pd.DataFrame(data={\"lambdas\": results, \"MSE scores\": mse_scores})"
   ]
  },
  {
   "cell_type": "code",
   "execution_count": 83,
   "metadata": {},
   "outputs": [
    {
     "name": "stdout",
     "output_type": "stream",
     "text": [
      "Lasso Reg Top5 + Int Mean Squared Error: 115922.25558303522\n"
     ]
    }
   ],
   "source": [
    "#Lasso Top 5 + Interaction\n",
    "\n",
    "lasso_pipelineTop5int = Pipeline([\n",
    "    ('preprocessing', ct),\n",
    "   (\"interaction\", ct_inter),\n",
    "    ('ridge_regression', Ridge(alpha=10))\n",
    "])\n",
    "\n",
    "lasso_pipelineTop5int.fit(X,y)\n",
    "\n",
    "scores = cross_val_score(lasso_pipelineTop5int, X, y, cv=5, scoring='neg_mean_squared_error')\n",
    "mse_scores = -scores\n",
    "mean_mse = mse_scores.mean()\n",
    "\n",
    "print(f\"Lasso Reg Top5 + Int Mean Squared Error: {mean_mse}\")"
   ]
  },
  {
   "cell_type": "markdown",
   "metadata": {},
   "source": [
    "### Elastic"
   ]
  },
  {
   "cell_type": "code",
   "execution_count": 84,
   "metadata": {},
   "outputs": [
    {
     "data": {
      "text/html": [
       "<div>\n",
       "<style scoped>\n",
       "    .dataframe tbody tr th:only-of-type {\n",
       "        vertical-align: middle;\n",
       "    }\n",
       "\n",
       "    .dataframe tbody tr th {\n",
       "        vertical-align: top;\n",
       "    }\n",
       "\n",
       "    .dataframe thead th {\n",
       "        text-align: right;\n",
       "    }\n",
       "</style>\n",
       "<table border=\"1\" class=\"dataframe\">\n",
       "  <thead>\n",
       "    <tr style=\"text-align: right;\">\n",
       "      <th></th>\n",
       "      <th>alpha</th>\n",
       "      <th>l1_ratio</th>\n",
       "      <th>mean_squared_error</th>\n",
       "    </tr>\n",
       "  </thead>\n",
       "  <tbody>\n",
       "    <tr>\n",
       "      <th>10</th>\n",
       "      <td>0.12</td>\n",
       "      <td>0.01</td>\n",
       "      <td>172569.569811</td>\n",
       "    </tr>\n",
       "    <tr>\n",
       "      <th>24</th>\n",
       "      <td>0.23</td>\n",
       "      <td>0.45</td>\n",
       "      <td>172571.467365</td>\n",
       "    </tr>\n",
       "    <tr>\n",
       "      <th>36</th>\n",
       "      <td>0.34</td>\n",
       "      <td>0.67</td>\n",
       "      <td>172578.968935</td>\n",
       "    </tr>\n",
       "  </tbody>\n",
       "</table>\n",
       "</div>"
      ],
      "text/plain": [
       "   alpha l1_ratio  mean_squared_error\n",
       "10  0.12     0.01       172569.569811\n",
       "24  0.23     0.45       172571.467365\n",
       "36  0.34     0.67       172578.968935"
      ]
     },
     "execution_count": 84,
     "metadata": {},
     "output_type": "execute_result"
    }
   ],
   "source": [
    "# Elastic Net Only Hits Tuning\n",
    "\n",
    "ct = ColumnTransformer(\n",
    "    transformers=[\n",
    "        ('Standardize', StandardScaler(), ['Hits']),\n",
    "    ], remainder = \"drop\"\n",
    ").set_output(transform = \"pandas\")\n",
    "\n",
    "\n",
    "# Creating pipeline\n",
    "enet_pipelineHits = Pipeline(\n",
    "  [(\"preprocessing\", ct),\n",
    "   (\"enet_regression\", ElasticNet(max_iter=100000, tol=0.1))]\n",
    ")\n",
    "\n",
    "\n",
    "lambdas = {\n",
    "    'enet_regression__alpha': np.linspace(0.01, 1, 10),\n",
    "    'enet_regression__l1_ratio': np.linspace(0.01, 1, 10)\n",
    "}\n",
    "\n",
    "# GridSearchCV\n",
    "gscv = GridSearchCV(enet_pipelineHits, lambdas, cv=5, scoring='neg_mean_squared_error')\n",
    "\n",
    "gscv_fitted = gscv.fit(X,y)\n",
    "\n",
    "\n",
    "results = gscv.cv_results_\n",
    "\n",
    "\n",
    "df = pd.DataFrame({\n",
    "    'alpha': results['param_enet_regression__alpha'],\n",
    "    'l1_ratio': results['param_enet_regression__l1_ratio'],\n",
    "    'mean_squared_error': -results['mean_test_score']  # Negating because scores are negative MSE\n",
    "})\n",
    "\n",
    "results_df = df.sort_values(by='mean_squared_error')\n",
    "results_df.head(3)"
   ]
  },
  {
   "cell_type": "code",
   "execution_count": 86,
   "metadata": {},
   "outputs": [
    {
     "name": "stdout",
     "output_type": "stream",
     "text": [
      "Elastic Net Hits Mean Squared Error: 173061.63450002926\n"
     ]
    }
   ],
   "source": [
    "# Elastic Net Only Hits\n",
    "\n",
    "\n",
    "enet_pipelineHits = Pipeline(\n",
    "  [(\"preprocessing\", ct),\n",
    "   (\"enet_regression\", ElasticNet(alpha=0.33, l1_ratio=0.67, max_iter=100000, tol=0.1))]\n",
    ")\n",
    "\n",
    "enet_pipelineHits.fit(X,y)\n",
    "\n",
    "scores = cross_val_score(lasso_pipelineHits, X, y, cv=5, scoring='neg_mean_squared_error')\n",
    "\n",
    "mse_scores = -scores\n",
    "mean_mse = mse_scores.mean()\n",
    "\n",
    "print(f\"Elastic Net Hits Mean Squared Error: {mean_mse}\")\n",
    "\n",
    "\n"
   ]
  },
  {
   "cell_type": "code",
   "execution_count": 87,
   "metadata": {},
   "outputs": [
    {
     "data": {
      "text/html": [
       "<div>\n",
       "<style scoped>\n",
       "    .dataframe tbody tr th:only-of-type {\n",
       "        vertical-align: middle;\n",
       "    }\n",
       "\n",
       "    .dataframe tbody tr th {\n",
       "        vertical-align: top;\n",
       "    }\n",
       "\n",
       "    .dataframe thead th {\n",
       "        text-align: right;\n",
       "    }\n",
       "</style>\n",
       "<table border=\"1\" class=\"dataframe\">\n",
       "  <thead>\n",
       "    <tr style=\"text-align: right;\">\n",
       "      <th></th>\n",
       "      <th>alpha</th>\n",
       "      <th>l1_ratio</th>\n",
       "      <th>mean_squared_error</th>\n",
       "    </tr>\n",
       "  </thead>\n",
       "  <tbody>\n",
       "    <tr>\n",
       "      <th>8</th>\n",
       "      <td>0.1</td>\n",
       "      <td>0.9</td>\n",
       "      <td>121810.622067</td>\n",
       "    </tr>\n",
       "    <tr>\n",
       "      <th>7</th>\n",
       "      <td>0.1</td>\n",
       "      <td>0.8</td>\n",
       "      <td>122005.489226</td>\n",
       "    </tr>\n",
       "    <tr>\n",
       "      <th>99</th>\n",
       "      <td>1.0</td>\n",
       "      <td>1.0</td>\n",
       "      <td>122008.500762</td>\n",
       "    </tr>\n",
       "  </tbody>\n",
       "</table>\n",
       "</div>"
      ],
      "text/plain": [
       "   alpha l1_ratio  mean_squared_error\n",
       "8    0.1      0.9       121810.622067\n",
       "7    0.1      0.8       122005.489226\n",
       "99   1.0      1.0       122008.500762"
      ]
     },
     "execution_count": 87,
     "metadata": {},
     "output_type": "execute_result"
    }
   ],
   "source": [
    "#Elastic Net Top 5 Tuning\n",
    "\n",
    "ct = ColumnTransformer(\n",
    "    transformers=[\n",
    "        ('Standardize', StandardScaler(), ['Hits','CRBI','CRuns','AtBat','Years']),\n",
    "    ], remainder = \"drop\"\n",
    ").set_output(transform = \"pandas\")\n",
    "\n",
    "\n",
    "enet_pipelineTop5 = Pipeline(\n",
    "  [(\"preprocessing\", ct),\n",
    "   (\"enet_regression\", ElasticNet(max_iter=10000, tol=0.1))]\n",
    ")\n",
    "\n",
    "\n",
    "lambdas = {\n",
    "    'enet_regression__alpha': np.linspace(0.1, 1, 10),\n",
    "    'enet_regression__l1_ratio': np.linspace(0.1, 1, 10)\n",
    "}\n",
    "\n",
    "# GridSearchCV\n",
    "gscv = GridSearchCV(enet_pipelineTop5, lambdas, cv=5, scoring='neg_mean_squared_error')\n",
    "\n",
    "gscv_fitted = gscv.fit(X,y)\n",
    "\n",
    "\n",
    "results = gscv.cv_results_\n",
    "\n",
    "\n",
    "df = pd.DataFrame({\n",
    "    'alpha': results['param_enet_regression__alpha'],\n",
    "    'l1_ratio': results['param_enet_regression__l1_ratio'],\n",
    "    'mean_squared_error': -results['mean_test_score']  # Negating because scores are negative MSE\n",
    "})\n",
    "\n",
    "results_df = df.sort_values(by='mean_squared_error')\n",
    "results_df.head(3)"
   ]
  },
  {
   "cell_type": "code",
   "execution_count": 88,
   "metadata": {},
   "outputs": [
    {
     "name": "stdout",
     "output_type": "stream",
     "text": [
      "Elastic Net Top 5 Mean Squared Error: 121810.62206661954\n"
     ]
    }
   ],
   "source": [
    "#Elastic Net Top 5 \n",
    "\n",
    "enet_pipelineTop5 = Pipeline(\n",
    "  [(\"preprocessing\", ct),\n",
    "   (\"enet_regression\", ElasticNet(alpha=0.1, l1_ratio=0.9, max_iter=10000, tol=0.1))]\n",
    ")\n",
    "\n",
    "enet_pipelineTop5.fit(X,y)\n",
    "\n",
    "scores = cross_val_score(enet_pipelineTop5, X, y, cv=5, scoring='neg_mean_squared_error')\n",
    "\n",
    "mse_scores = -scores\n",
    "mean_mse = mse_scores.mean()\n",
    "\n",
    "print(f\"Elastic Net Top 5 Mean Squared Error: {mean_mse}\")"
   ]
  },
  {
   "cell_type": "code",
   "execution_count": 89,
   "metadata": {},
   "outputs": [
    {
     "data": {
      "text/html": [
       "<div>\n",
       "<style scoped>\n",
       "    .dataframe tbody tr th:only-of-type {\n",
       "        vertical-align: middle;\n",
       "    }\n",
       "\n",
       "    .dataframe tbody tr th {\n",
       "        vertical-align: top;\n",
       "    }\n",
       "\n",
       "    .dataframe thead th {\n",
       "        text-align: right;\n",
       "    }\n",
       "</style>\n",
       "<table border=\"1\" class=\"dataframe\">\n",
       "  <thead>\n",
       "    <tr style=\"text-align: right;\">\n",
       "      <th></th>\n",
       "      <th>alpha</th>\n",
       "      <th>l1_ratio</th>\n",
       "      <th>mean_squared_error</th>\n",
       "    </tr>\n",
       "  </thead>\n",
       "  <tbody>\n",
       "    <tr>\n",
       "      <th>6</th>\n",
       "      <td>0.1</td>\n",
       "      <td>0.7</td>\n",
       "      <td>115789.989629</td>\n",
       "    </tr>\n",
       "    <tr>\n",
       "      <th>5</th>\n",
       "      <td>0.1</td>\n",
       "      <td>0.6</td>\n",
       "      <td>115845.199059</td>\n",
       "    </tr>\n",
       "    <tr>\n",
       "      <th>17</th>\n",
       "      <td>0.2</td>\n",
       "      <td>0.8</td>\n",
       "      <td>115906.991024</td>\n",
       "    </tr>\n",
       "    <tr>\n",
       "      <th>28</th>\n",
       "      <td>0.3</td>\n",
       "      <td>0.9</td>\n",
       "      <td>115951.686624</td>\n",
       "    </tr>\n",
       "    <tr>\n",
       "      <th>4</th>\n",
       "      <td>0.1</td>\n",
       "      <td>0.5</td>\n",
       "      <td>115976.519181</td>\n",
       "    </tr>\n",
       "  </tbody>\n",
       "</table>\n",
       "</div>"
      ],
      "text/plain": [
       "   alpha l1_ratio  mean_squared_error\n",
       "6    0.1      0.7       115789.989629\n",
       "5    0.1      0.6       115845.199059\n",
       "17   0.2      0.8       115906.991024\n",
       "28   0.3      0.9       115951.686624\n",
       "4    0.1      0.5       115976.519181"
      ]
     },
     "execution_count": 89,
     "metadata": {},
     "output_type": "execute_result"
    }
   ],
   "source": [
    "#Elastic Net Top 5 + Interaction Tuning\n",
    "\n",
    "ct = ColumnTransformer(\n",
    "    transformers=[\n",
    "        (\"dummify\", OneHotEncoder(sparse_output = False), [\"Division\"]),\n",
    "        ('Standardize', StandardScaler(), ['Hits','CRBI','CRuns','AtBat','Years']),\n",
    "    ], remainder = \"passthrough\"\n",
    ").set_output(transform = \"pandas\")\n",
    "\n",
    "ct_inter = ColumnTransformer(\n",
    "  [\n",
    "    (\"interaction1\", PolynomialFeatures(interaction_only = True), [\"Standardize__Hits\", \"dummify__Division_E\"]),\n",
    "    (\"interaction2\", PolynomialFeatures(interaction_only = True), [\"Standardize__CRBI\", \"dummify__Division_E\"]),\n",
    "    (\"interaction3\", PolynomialFeatures(interaction_only = True), [\"Standardize__CRuns\", \"dummify__Division_E\"]),\n",
    "    (\"interaction4\", PolynomialFeatures(interaction_only = True), [\"Standardize__AtBat\", \"dummify__Division_E\"]),\n",
    "    (\"interaction5\", PolynomialFeatures(interaction_only = True), [\"Standardize__Years\", \"dummify__Division_E\"]),\n",
    "  ],\n",
    "  remainder = \"drop\"\n",
    ").set_output(transform = \"pandas\")\n",
    "\n",
    "\n",
    "enet_pipelineTop5int = Pipeline([\n",
    "    ('preprocessing', ct),\n",
    "   (\"interaction\", ct_inter),\n",
    "    (\"enet_regression\", ElasticNet(max_iter=10000, tol=0.1))\n",
    "])\n",
    "\n",
    "# parameter grid\n",
    "lambdas = {\n",
    "    'enet_regression__alpha': np.linspace(0.1, 1, 10),\n",
    "    'enet_regression__l1_ratio': np.linspace(0.1, 1, 10)\n",
    "}\n",
    "\n",
    "# GridSearchCV\n",
    "gscv = GridSearchCV(enet_pipelineTop5int, lambdas, cv=5, scoring='neg_mean_squared_error')\n",
    "\n",
    "gscv_fitted = gscv.fit(X,y)\n",
    "\n",
    "\n",
    "results = gscv.cv_results_\n",
    "\n",
    "\n",
    "df = pd.DataFrame({\n",
    "    'alpha': results['param_enet_regression__alpha'],\n",
    "    'l1_ratio': results['param_enet_regression__l1_ratio'],\n",
    "    'mean_squared_error': -results['mean_test_score']  # Negating because scores are negative MSE\n",
    "})\n",
    "\n",
    "results_df = df.sort_values(by='mean_squared_error')\n",
    "results_df.head(5)"
   ]
  },
  {
   "cell_type": "code",
   "execution_count": 90,
   "metadata": {},
   "outputs": [
    {
     "name": "stdout",
     "output_type": "stream",
     "text": [
      "Elastic Net Top 5 + Int Mean Squared Error: 115906.9910240294\n"
     ]
    }
   ],
   "source": [
    "#Elastic Net Top 5 + Interaction\n",
    "# Creates pipeline\n",
    "enet_pipelineTop5int = Pipeline([\n",
    "    ('preprocessing', ct),\n",
    "   (\"interaction\", ct_inter),\n",
    "    (\"enet_regression\", ElasticNet(alpha=0.2,l1_ratio=0.8,max_iter=10000, tol=0.1))\n",
    "])\n",
    "\n",
    "enet_pipelineTop5int.fit(X,y)\n",
    "\n",
    "scores = cross_val_score(enet_pipelineTop5int, X, y, cv=5, scoring='neg_mean_squared_error')\n",
    "\n",
    "mse_scores = -scores\n",
    "mean_mse = mse_scores.mean()\n",
    "\n",
    "print(f\"Elastic Net Top 5 + Int Mean Squared Error: {mean_mse}\")"
   ]
  },
  {
   "cell_type": "markdown",
   "metadata": {},
   "source": [
    "### Part 2 Intuition: "
   ]
  },
  {
   "cell_type": "markdown",
   "metadata": {},
   "source": [
    "Among all the models evaluated in part 2, the Elastic Net, incorporating the top five variables and their interactions, emerged as the superior model, evidenced by its lowest MSE of 115906.99. This superior performance of the Elastic Net model aligns with expectations, given its ability to optimize the blend of Ridge and Lasso regression techniques to minimize MSE. Notably, this MSE is the lowest recorded in our analyses so far."
   ]
  },
  {
   "cell_type": "markdown",
   "metadata": {},
   "source": [
    "### Part 3 Discussion:"
   ]
  },
  {
   "cell_type": "markdown",
   "metadata": {},
   "source": [
    "#### Ridge"
   ]
  },
  {
   "cell_type": "markdown",
   "metadata": {},
   "source": [
    "The Ridge models outperformed the ordinary regression models in terms of MSE and also exhibited smaller coefficients. This outcome aligns with the characteristics of Ridge regression, a type of penalized regression that imposes constraints on the magnitude of the coefficients (betas), leading to their reduction."
   ]
  },
  {
   "cell_type": "markdown",
   "metadata": {},
   "source": [
    "#### Lasso"
   ]
  },
  {
   "cell_type": "markdown",
   "metadata": {},
   "source": [
    "The ideal lambda values varied across the Lasso regressions depending on the chosen predictors. This variation is logical, considering that the influence and optimal level of lambda would change depending on the specific variables included in each model. Among all the Lasso variants, the model combining the top five variables plus interactions achieved the lowest MSE, recording a value of 115922.26."
   ]
  },
  {
   "cell_type": "markdown",
   "metadata": {},
   "source": [
    "#### Elastic Net"
   ]
  },
  {
   "cell_type": "markdown",
   "metadata": {},
   "source": [
    "In every instance, the Elastic Net models outshone both the Ridge and Lasso models in performance. This outcome is logically consistent, considering that the Elastic Net model is fine-tuned to strike the ideal balance between Ridge and Lasso techniques, aiming to attain the minimum possible MSE for each specific model configuration."
   ]
  },
  {
   "cell_type": "markdown",
   "metadata": {},
   "source": [
    "### Part 4, The Final Model:"
   ]
  },
  {
   "cell_type": "code",
   "execution_count": 99,
   "metadata": {},
   "outputs": [
    {
     "name": "stdout",
     "output_type": "stream",
     "text": [
      "Best Model Mean Squared Error: 115906.9910240294\n"
     ]
    }
   ],
   "source": [
    "X = hitters_data_clean.drop([\"Salary\"],axis=1)\n",
    "y = hitters_data_clean[\"Salary\"]\n",
    "\n",
    "#Best Model\n",
    "# pipeline\n",
    "best_pipeline = Pipeline([\n",
    "    ('preprocessing', ct),\n",
    "   (\"interaction\", ct_inter),\n",
    "    (\"enet_regression\", ElasticNet(alpha=0.2,l1_ratio=0.8,max_iter=10000, tol=0.1))\n",
    "])\n",
    "\n",
    "#Fit entire dataset\n",
    "best_pipeline.fit(X,y)\n",
    "\n",
    "scores = cross_val_score(best_pipeline, X, y, cv=5, scoring='neg_mean_squared_error')\n",
    "\n",
    "mse_scores = -scores\n",
    "mean_mse = mse_scores.mean()\n",
    "\n",
    "print(f\"Best Model Mean Squared Error: {mean_mse}\")"
   ]
  },
  {
   "cell_type": "code",
   "execution_count": 101,
   "metadata": {},
   "outputs": [
    {
     "data": {
      "image/png": "[encoded data removed]",
      "text/plain": [
       "<Figure size 640x480 with 1 Axes>"
      ]
     },
     "metadata": {
      "image/png": {
       "height": 480,
       "width": 640
      }
     },
     "output_type": "display_data"
    },
    {
     "data": {
      "text/plain": [
       "<Figure Size: (640 x 480)>"
      ]
     },
     "execution_count": 101,
     "metadata": {},
     "output_type": "execute_result"
    }
   ],
   "source": [
    "# Coefficients & var names\n",
    "coefficients = best_pipeline.named_steps['enet_regression'].coef_\n",
    "\n",
    "var_names = ct_inter.get_feature_names_out()\n",
    "\n",
    "# DataFrame\n",
    "coef_df = pd.DataFrame({\n",
    "    'Variable': var_names,\n",
    "    'Coefficient': coefficients\n",
    "})\n",
    "\n",
    "# Filter out zero coefficients\n",
    "coef_df = coef_df[coef_df['Coefficient'] != 0]\n",
    "\n",
    "import pandas as pd\n",
    "\n",
    "\n",
    "# Replace 'interaction' with 'int', remove underscores and spaces\n",
    "coef_df['Variable'] = coef_df['Variable'].str.replace('interaction', 'int', regex=False)\n",
    "coef_df['Variable'] = coef_df['Variable'].str.replace('Standardize', 'Std', regex=False)\n",
    "coef_df['Variable'] = coef_df['Variable'].str.replace('dummify', 'Dum', regex=False)\n",
    "coef_df['Variable'] = coef_df['Variable'].str.replace('Division', 'Div', regex=False)\n",
    "coef_df['Variable'] = coef_df['Variable'].str.replace('[ _]', '', regex=True)\n",
    "\n",
    "\n",
    "(ggplot(coef_df, aes(x='Variable', y='Coefficient'))\n",
    " + geom_point()\n",
    " + geom_hline(yintercept=0, color=\"red\", linetype=\"dotted\")\n",
    " + theme(axis_text_x=element_text(angle=90, hjust=1))\n",
    " + ggtitle('Coefs of The Best Model'))"
   ]
  },
  {
   "cell_type": "markdown",
   "metadata": {},
   "source": [
    "The most effective model leveraged the variables we previously pinpointed as having the most substantial coefficients in all model types, namely Hits, CRBI, CRuns, Years, and Division.\n",
    "\n",
    "Notably, the interaction between CRBI and Division E displayed the highest positive coefficient, while the interaction between AtBat and Division E showed the most significant negative coefficient. This aligns with earlier patterns observed in our models, where CRBI consistently emerged as a key positive influencer, AtBats as a prominent negative influencer, and Division E stood out with the highest impact among the categorical variables from the baseball dataset."
   ]
  }
 ],
 "metadata": {
  "kernelspec": {
   "display_name": "Python 3 (ipykernel)",
   "language": "python",
   "name": "python3"
  },
  "language_info": {
   "codemirror_mode": {
    "name": "ipython",
    "version": 3
   },
   "file_extension": ".py",
   "mimetype": "text/x-python",
   "name": "python",
   "nbconvert_exporter": "python",
   "pygments_lexer": "ipython3",
   "version": "3.11.5"
  }
 },
 "nbformat": 4,
 "nbformat_minor": 2
}
